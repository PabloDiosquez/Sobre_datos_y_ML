{
 "cells": [
  {
   "cell_type": "markdown",
   "id": "0cc1ce54",
   "metadata": {},
   "source": [
    "# Python"
   ]
  },
  {
   "cell_type": "markdown",
   "id": "ea68073b",
   "metadata": {
    "slideshow": {
     "slide_type": "slide"
    }
   },
   "source": [
    "## Un poco de Historia"
   ]
  },
  {
   "cell_type": "markdown",
   "id": "fd7b3b9f",
   "metadata": {
    "slideshow": {
     "slide_type": "subslide"
    }
   },
   "source": [
    "Python fue creado a finales de los años 80 por un programador holandés llamado **Guido van Rossum**,\n",
    "quien sigue siendo aún hoy el líder del desarrollo del lenguaje.\n",
    "\n",
    "(Edit julio 2018: [ya no más](https://www.mail-archive.com/python-committers@python.org/msg05628.html))"
   ]
  },
  {
   "cell_type": "markdown",
   "id": "d31ad4e7",
   "metadata": {
    "slideshow": {
     "slide_type": "subslide"
    }
   },
   "source": [
    "El nombre del lenguaje proviene de los humoristas británicos Monty Python.\n",
    "\n",
    ">*\"I chose Python as a working title for the project, being in a slightly irreverent mood (and a big fan of Monty Python's Flying Circus).\"*"
   ]
  },
  {
   "cell_type": "markdown",
   "id": "9e5853f2",
   "metadata": {
    "slideshow": {
     "slide_type": "slide"
    }
   },
   "source": [
    "## Caracteristicas\n",
    "\n",
    "- Interpretado\n",
    "- Tipado dinamico\n",
    "- Multiparadigma\n",
    "- Alto nivel\n",
    "- Tiene un recolector de basura (no hay malloc, free, realloc, etc)"
   ]
  },
  {
   "cell_type": "markdown",
   "id": "33eaa640",
   "metadata": {},
   "source": [
    "## ¿Cómo empezar?\n",
    "\n",
    "* Al ser un lenguaje *interpretado*, se puede ir escribiendo a medida que se ejecuta, sin necesidad de compilar de antemano! Solamente hace falta escribir `python` o `python3` en una terminal para empezar\n",
    "\n",
    "* También, permite escribir archivos y correrlos. Crear un archivo con extensión `.py` y luego correr `python miarchivo.py` en laterminal"
   ]
  },
  {
   "cell_type": "markdown",
   "id": "c44683e4",
   "metadata": {
    "slideshow": {
     "slide_type": "slide"
    }
   },
   "source": [
    "## El Zen de Python"
   ]
  },
  {
   "cell_type": "code",
   "execution_count": 1,
   "id": "73859501",
   "metadata": {
    "execution": {
     "iopub.execute_input": "2021-11-03T02:42:12.888393Z",
     "iopub.status.busy": "2021-11-03T02:42:12.887808Z",
     "iopub.status.idle": "2021-11-03T02:42:12.907619Z",
     "shell.execute_reply": "2021-11-03T02:42:12.908097Z"
    },
    "slideshow": {
     "slide_type": "slide"
    }
   },
   "outputs": [
    {
     "name": "stdout",
     "output_type": "stream",
     "text": [
      "The Zen of Python, by Tim Peters\n",
      "\n",
      "Beautiful is better than ugly.\n",
      "Explicit is better than implicit.\n",
      "Simple is better than complex.\n",
      "Complex is better than complicated.\n",
      "Flat is better than nested.\n",
      "Sparse is better than dense.\n",
      "Readability counts.\n",
      "Special cases aren't special enough to break the rules.\n",
      "Although practicality beats purity.\n",
      "Errors should never pass silently.\n",
      "Unless explicitly silenced.\n",
      "In the face of ambiguity, refuse the temptation to guess.\n",
      "There should be one-- and preferably only one --obvious way to do it.\n",
      "Although that way may not be obvious at first unless you're Dutch.\n",
      "Now is better than never.\n",
      "Although never is often better than *right* now.\n",
      "If the implementation is hard to explain, it's a bad idea.\n",
      "If the implementation is easy to explain, it may be a good idea.\n",
      "Namespaces are one honking great idea -- let's do more of those!\n"
     ]
    }
   ],
   "source": [
    "import this"
   ]
  },
  {
   "cell_type": "markdown",
   "id": "1c8befb6",
   "metadata": {
    "slideshow": {
     "slide_type": "slide"
    }
   },
   "source": [
    "## Conocimientos Básicos de Python: Variables y Tipos"
   ]
  },
  {
   "cell_type": "code",
   "execution_count": 2,
   "id": "f47cbec4",
   "metadata": {
    "execution": {
     "iopub.execute_input": "2021-11-03T02:42:12.913017Z",
     "iopub.status.busy": "2021-11-03T02:42:12.910798Z",
     "iopub.status.idle": "2021-11-03T02:42:12.915232Z",
     "shell.execute_reply": "2021-11-03T02:42:12.915690Z"
    },
    "slideshow": {
     "slide_type": "slide"
    }
   },
   "outputs": [
    {
     "name": "stdout",
     "output_type": "stream",
     "text": [
      "Hello World!\n"
     ]
    }
   ],
   "source": [
    "# Este es un comentario\n",
    "\n",
    "print(\"Hello World!\")"
   ]
  },
  {
   "cell_type": "markdown",
   "id": "357e4910",
   "metadata": {},
   "source": [
    "Los strings en python puden escribirse tanto con comillas simples (`'`) como comillas dobles (`\"`). Normalmente vemos texto entre comillas triples para escribir _docstrings_, segun la guia de estilo de Python, el PEP8."
   ]
  },
  {
   "cell_type": "code",
   "execution_count": 3,
   "id": "7cdbbcbe",
   "metadata": {
    "execution": {
     "iopub.execute_input": "2021-11-03T02:42:12.927243Z",
     "iopub.status.busy": "2021-11-03T02:42:12.923502Z",
     "iopub.status.idle": "2021-11-03T02:42:12.933343Z",
     "shell.execute_reply": "2021-11-03T02:42:12.932838Z"
    }
   },
   "outputs": [
    {
     "data": {
      "text/plain": [
       "'Esto es un docstring.\\n'"
      ]
     },
     "execution_count": 3,
     "metadata": {},
     "output_type": "execute_result"
    }
   ],
   "source": [
    "\"\"\"Esto es un docstring.\n",
    "\"\"\""
   ]
  },
  {
   "cell_type": "markdown",
   "id": "d1c2febc",
   "metadata": {},
   "source": [
    "### Declaracion de variables"
   ]
  },
  {
   "cell_type": "code",
   "execution_count": 4,
   "id": "68f3f782",
   "metadata": {
    "execution": {
     "iopub.execute_input": "2021-11-03T02:42:12.938064Z",
     "iopub.status.busy": "2021-11-03T02:42:12.937415Z",
     "iopub.status.idle": "2021-11-03T02:42:12.941379Z",
     "shell.execute_reply": "2021-11-03T02:42:12.941860Z"
    }
   },
   "outputs": [
    {
     "name": "stdout",
     "output_type": "stream",
     "text": [
      "Hola\n"
     ]
    }
   ],
   "source": [
    "string = 'Hola'\n",
    "print(string)"
   ]
  },
  {
   "cell_type": "code",
   "execution_count": 5,
   "id": "91692c3e",
   "metadata": {
    "execution": {
     "iopub.execute_input": "2021-11-03T02:42:12.947253Z",
     "iopub.status.busy": "2021-11-03T02:42:12.945960Z",
     "iopub.status.idle": "2021-11-03T02:42:12.949896Z",
     "shell.execute_reply": "2021-11-03T02:42:12.949374Z"
    }
   },
   "outputs": [
    {
     "name": "stdout",
     "output_type": "stream",
     "text": [
      "1\n"
     ]
    }
   ],
   "source": [
    "entero = 1\n",
    "print(entero)"
   ]
  },
  {
   "cell_type": "code",
   "execution_count": 6,
   "id": "22c2c02d",
   "metadata": {
    "execution": {
     "iopub.execute_input": "2021-11-03T02:42:12.955245Z",
     "iopub.status.busy": "2021-11-03T02:42:12.954388Z",
     "iopub.status.idle": "2021-11-03T02:42:12.956932Z",
     "shell.execute_reply": "2021-11-03T02:42:12.957478Z"
    }
   },
   "outputs": [
    {
     "name": "stdout",
     "output_type": "stream",
     "text": [
      "1.0\n"
     ]
    }
   ],
   "source": [
    "flotante = 1.0\n",
    "print(flotante)"
   ]
  },
  {
   "cell_type": "code",
   "execution_count": 7,
   "id": "df7c0caf",
   "metadata": {
    "execution": {
     "iopub.execute_input": "2021-11-03T02:42:12.961640Z",
     "iopub.status.busy": "2021-11-03T02:42:12.961086Z",
     "iopub.status.idle": "2021-11-03T02:42:12.963303Z",
     "shell.execute_reply": "2021-11-03T02:42:12.963789Z"
    }
   },
   "outputs": [
    {
     "name": "stdout",
     "output_type": "stream",
     "text": [
      "(1, 1.0)\n"
     ]
    }
   ],
   "source": [
    "tupla = (entero, flotante)\n",
    "print(tupla)"
   ]
  },
  {
   "cell_type": "code",
   "execution_count": 8,
   "id": "c25c49a3",
   "metadata": {
    "execution": {
     "iopub.execute_input": "2021-11-03T02:42:12.968473Z",
     "iopub.status.busy": "2021-11-03T02:42:12.966455Z",
     "iopub.status.idle": "2021-11-03T02:42:12.970885Z",
     "shell.execute_reply": "2021-11-03T02:42:12.971342Z"
    }
   },
   "outputs": [
    {
     "name": "stdout",
     "output_type": "stream",
     "text": [
      "(1, 1.0, 'Hola')\n"
     ]
    }
   ],
   "source": [
    "nupla = (entero, flotante, string)\n",
    "print(nupla)"
   ]
  },
  {
   "cell_type": "code",
   "execution_count": 9,
   "id": "1a4655d2",
   "metadata": {
    "execution": {
     "iopub.execute_input": "2021-11-03T02:42:12.976488Z",
     "iopub.status.busy": "2021-11-03T02:42:12.975682Z",
     "iopub.status.idle": "2021-11-03T02:42:12.978690Z",
     "shell.execute_reply": "2021-11-03T02:42:12.978177Z"
    }
   },
   "outputs": [
    {
     "name": "stdout",
     "output_type": "stream",
     "text": [
      "[1, 1.0, 'Hola']\n"
     ]
    }
   ],
   "source": [
    "lista = [entero, flotante, string]\n",
    "print(lista)"
   ]
  },
  {
   "cell_type": "code",
   "execution_count": 10,
   "id": "1417fe4e",
   "metadata": {
    "execution": {
     "iopub.execute_input": "2021-11-03T02:42:12.983042Z",
     "iopub.status.busy": "2021-11-03T02:42:12.982474Z",
     "iopub.status.idle": "2021-11-03T02:42:12.984678Z",
     "shell.execute_reply": "2021-11-03T02:42:12.985131Z"
    }
   },
   "outputs": [
    {
     "name": "stdout",
     "output_type": "stream",
     "text": [
      "{'1': (1, 1.0), 50: (1, 1.0, 'Hola'), '3': 1}\n"
     ]
    }
   ],
   "source": [
    "diccionario = {'1': tupla, 50: nupla, '3': entero}\n",
    "print(diccionario)"
   ]
  },
  {
   "cell_type": "code",
   "execution_count": 11,
   "id": "05b05e33",
   "metadata": {
    "execution": {
     "iopub.execute_input": "2021-11-03T02:42:12.989537Z",
     "iopub.status.busy": "2021-11-03T02:42:12.988978Z",
     "iopub.status.idle": "2021-11-03T02:42:12.991246Z",
     "shell.execute_reply": "2021-11-03T02:42:12.991698Z"
    }
   },
   "outputs": [
    {
     "name": "stdout",
     "output_type": "stream",
     "text": [
      "{1, 2}\n"
     ]
    }
   ],
   "source": [
    "conjunto = set([1, 2])\n",
    "print(conjunto)"
   ]
  },
  {
   "cell_type": "code",
   "execution_count": 12,
   "id": "1dada95a",
   "metadata": {
    "execution": {
     "iopub.execute_input": "2021-11-03T02:42:12.996122Z",
     "iopub.status.busy": "2021-11-03T02:42:12.995540Z",
     "iopub.status.idle": "2021-11-03T02:42:12.997743Z",
     "shell.execute_reply": "2021-11-03T02:42:12.998239Z"
    }
   },
   "outputs": [
    {
     "name": "stdout",
     "output_type": "stream",
     "text": [
      "True\n"
     ]
    }
   ],
   "source": [
    "booleano = True\n",
    "print(booleano)"
   ]
  },
  {
   "cell_type": "code",
   "execution_count": 13,
   "id": "c9bddc5e",
   "metadata": {
    "execution": {
     "iopub.execute_input": "2021-11-03T02:42:13.002615Z",
     "iopub.status.busy": "2021-11-03T02:42:13.002036Z",
     "iopub.status.idle": "2021-11-03T02:42:13.004232Z",
     "shell.execute_reply": "2021-11-03T02:42:13.004779Z"
    }
   },
   "outputs": [
    {
     "name": "stdout",
     "output_type": "stream",
     "text": [
      "None\n"
     ]
    }
   ],
   "source": [
    "nada = None\n",
    "print(nada)"
   ]
  },
  {
   "cell_type": "markdown",
   "id": "cdc67d92",
   "metadata": {},
   "source": [
    "Ojo que las variables pueden cambiar de tipo!"
   ]
  },
  {
   "cell_type": "code",
   "execution_count": 14,
   "id": "2c14af87",
   "metadata": {
    "execution": {
     "iopub.execute_input": "2021-11-03T02:42:13.007504Z",
     "iopub.status.busy": "2021-11-03T02:42:13.006949Z",
     "iopub.status.idle": "2021-11-03T02:42:13.011112Z",
     "shell.execute_reply": "2021-11-03T02:42:13.011590Z"
    }
   },
   "outputs": [
    {
     "name": "stdout",
     "output_type": "stream",
     "text": [
      "1\n",
      "<class 'int'>\n"
     ]
    }
   ],
   "source": [
    "elemento = 1\n",
    "print(elemento)\n",
    "print(type(elemento))"
   ]
  },
  {
   "cell_type": "code",
   "execution_count": 15,
   "id": "91961860",
   "metadata": {
    "execution": {
     "iopub.execute_input": "2021-11-03T02:42:13.016318Z",
     "iopub.status.busy": "2021-11-03T02:42:13.015759Z",
     "iopub.status.idle": "2021-11-03T02:42:13.018007Z",
     "shell.execute_reply": "2021-11-03T02:42:13.018477Z"
    }
   },
   "outputs": [
    {
     "name": "stdout",
     "output_type": "stream",
     "text": [
      "1\n",
      "<class 'str'>\n"
     ]
    }
   ],
   "source": [
    "elemento = str(1)\n",
    "print(elemento)\n",
    "print(type(elemento))"
   ]
  },
  {
   "cell_type": "code",
   "execution_count": 16,
   "id": "bcf739eb",
   "metadata": {
    "execution": {
     "iopub.execute_input": "2021-11-03T02:42:13.023081Z",
     "iopub.status.busy": "2021-11-03T02:42:13.022518Z",
     "iopub.status.idle": "2021-11-03T02:42:13.027314Z",
     "shell.execute_reply": "2021-11-03T02:42:13.026843Z"
    }
   },
   "outputs": [
    {
     "name": "stdout",
     "output_type": "stream",
     "text": [
      "[2]\n",
      "<class 'list'>\n"
     ]
    }
   ],
   "source": [
    "elemento = [2]\n",
    "\n",
    "print(elemento)\n",
    "print(type(elemento))"
   ]
  },
  {
   "cell_type": "markdown",
   "id": "8f586527",
   "metadata": {},
   "source": [
    "### Tipos basicos"
   ]
  },
  {
   "cell_type": "markdown",
   "id": "608f579e",
   "metadata": {
    "slideshow": {
     "slide_type": "slide"
    }
   },
   "source": [
    "#### Listas de Python"
   ]
  },
  {
   "cell_type": "code",
   "execution_count": 17,
   "id": "74695113",
   "metadata": {
    "execution": {
     "iopub.execute_input": "2021-11-03T02:42:13.032071Z",
     "iopub.status.busy": "2021-11-03T02:42:13.031494Z",
     "iopub.status.idle": "2021-11-03T02:42:13.034270Z",
     "shell.execute_reply": "2021-11-03T02:42:13.034730Z"
    }
   },
   "outputs": [
    {
     "data": {
      "text/plain": [
       "[]"
      ]
     },
     "execution_count": 17,
     "metadata": {},
     "output_type": "execute_result"
    }
   ],
   "source": [
    "lista = list()\n",
    "lista"
   ]
  },
  {
   "cell_type": "code",
   "execution_count": 18,
   "id": "8acf9116",
   "metadata": {
    "execution": {
     "iopub.execute_input": "2021-11-03T02:42:13.039270Z",
     "iopub.status.busy": "2021-11-03T02:42:13.038692Z",
     "iopub.status.idle": "2021-11-03T02:42:13.041445Z",
     "shell.execute_reply": "2021-11-03T02:42:13.041950Z"
    },
    "slideshow": {
     "slide_type": "slide"
    }
   },
   "outputs": [
    {
     "data": {
      "text/plain": [
       "[]"
      ]
     },
     "execution_count": 18,
     "metadata": {},
     "output_type": "execute_result"
    }
   ],
   "source": [
    "lista = []\n",
    "lista"
   ]
  },
  {
   "cell_type": "code",
   "execution_count": 19,
   "id": "56205695",
   "metadata": {
    "execution": {
     "iopub.execute_input": "2021-11-03T02:42:13.046884Z",
     "iopub.status.busy": "2021-11-03T02:42:13.046307Z",
     "iopub.status.idle": "2021-11-03T02:42:13.049035Z",
     "shell.execute_reply": "2021-11-03T02:42:13.049491Z"
    },
    "slideshow": {
     "slide_type": "slide"
    }
   },
   "outputs": [
    {
     "data": {
      "text/plain": [
       "[1, 2, 3, 4]"
      ]
     },
     "execution_count": 19,
     "metadata": {},
     "output_type": "execute_result"
    }
   ],
   "source": [
    "lista = [1, 2, 3, 4]\n",
    "lista"
   ]
  },
  {
   "cell_type": "code",
   "execution_count": 20,
   "id": "179260d9",
   "metadata": {
    "execution": {
     "iopub.execute_input": "2021-11-03T02:42:13.057859Z",
     "iopub.status.busy": "2021-11-03T02:42:13.057223Z",
     "iopub.status.idle": "2021-11-03T02:42:13.060751Z",
     "shell.execute_reply": "2021-11-03T02:42:13.061208Z"
    },
    "slideshow": {
     "slide_type": "slide"
    }
   },
   "outputs": [
    {
     "data": {
      "text/plain": [
       "[1, 2, 3, 4, 1, 'dos', 3.0]"
      ]
     },
     "execution_count": 20,
     "metadata": {},
     "output_type": "execute_result"
    }
   ],
   "source": [
    "lista.append(1)  # Inserto un 1 al final\n",
    "lista.append(\"dos\")  # Inserto un \"dos\" al final\n",
    "lista.append(3.0)  # Inserto un 3.0 al final\n",
    "lista"
   ]
  },
  {
   "cell_type": "code",
   "execution_count": 21,
   "id": "9bcfccfc",
   "metadata": {
    "execution": {
     "iopub.execute_input": "2021-11-03T02:42:13.066828Z",
     "iopub.status.busy": "2021-11-03T02:42:13.065507Z",
     "iopub.status.idle": "2021-11-03T02:42:13.069047Z",
     "shell.execute_reply": "2021-11-03T02:42:13.068550Z"
    }
   },
   "outputs": [
    {
     "name": "stdout",
     "output_type": "stream",
     "text": [
      "[1, 2, 10, 3, 4, 1, 'dos', 3.0]\n"
     ]
    }
   ],
   "source": [
    "lista.insert(2, 10)  # Inserto en posicion 2 un 10\n",
    "print(lista)"
   ]
  },
  {
   "cell_type": "code",
   "execution_count": 22,
   "id": "231fd355",
   "metadata": {
    "execution": {
     "iopub.execute_input": "2021-11-03T02:42:13.074677Z",
     "iopub.status.busy": "2021-11-03T02:42:13.074085Z",
     "iopub.status.idle": "2021-11-03T02:42:13.077143Z",
     "shell.execute_reply": "2021-11-03T02:42:13.077606Z"
    }
   },
   "outputs": [
    {
     "data": {
      "text/plain": [
       "8"
      ]
     },
     "execution_count": 22,
     "metadata": {},
     "output_type": "execute_result"
    }
   ],
   "source": [
    "len(lista)"
   ]
  },
  {
   "cell_type": "code",
   "execution_count": 23,
   "id": "98343430",
   "metadata": {
    "execution": {
     "iopub.execute_input": "2021-11-03T02:42:13.082707Z",
     "iopub.status.busy": "2021-11-03T02:42:13.082121Z",
     "iopub.status.idle": "2021-11-03T02:42:13.084909Z",
     "shell.execute_reply": "2021-11-03T02:42:13.085374Z"
    }
   },
   "outputs": [
    {
     "data": {
      "text/plain": [
       "3.0"
      ]
     },
     "execution_count": 23,
     "metadata": {},
     "output_type": "execute_result"
    }
   ],
   "source": [
    "lista.pop()"
   ]
  },
  {
   "cell_type": "code",
   "execution_count": 24,
   "id": "0e292a0b",
   "metadata": {
    "execution": {
     "iopub.execute_input": "2021-11-03T02:42:13.090612Z",
     "iopub.status.busy": "2021-11-03T02:42:13.090028Z",
     "iopub.status.idle": "2021-11-03T02:42:13.092813Z",
     "shell.execute_reply": "2021-11-03T02:42:13.093282Z"
    }
   },
   "outputs": [
    {
     "data": {
      "text/plain": [
       "[1, 2, 10, 3, 4, 1, 'dos']"
      ]
     },
     "execution_count": 24,
     "metadata": {},
     "output_type": "execute_result"
    }
   ],
   "source": [
    "lista"
   ]
  },
  {
   "cell_type": "code",
   "execution_count": 25,
   "id": "637b7095",
   "metadata": {
    "execution": {
     "iopub.execute_input": "2021-11-03T02:42:13.098408Z",
     "iopub.status.busy": "2021-11-03T02:42:13.097827Z",
     "iopub.status.idle": "2021-11-03T02:42:13.100604Z",
     "shell.execute_reply": "2021-11-03T02:42:13.101059Z"
    }
   },
   "outputs": [
    {
     "data": {
      "text/plain": [
       "2"
      ]
     },
     "execution_count": 25,
     "metadata": {},
     "output_type": "execute_result"
    }
   ],
   "source": [
    "lista.index(10)"
   ]
  },
  {
   "cell_type": "code",
   "execution_count": 26,
   "id": "291e1424",
   "metadata": {
    "execution": {
     "iopub.execute_input": "2021-11-03T02:42:13.106246Z",
     "iopub.status.busy": "2021-11-03T02:42:13.105636Z",
     "iopub.status.idle": "2021-11-03T02:42:13.108439Z",
     "shell.execute_reply": "2021-11-03T02:42:13.108895Z"
    }
   },
   "outputs": [
    {
     "data": {
      "text/plain": [
       "[1, 2, 3, 4, 1, 'dos']"
      ]
     },
     "execution_count": 26,
     "metadata": {},
     "output_type": "execute_result"
    }
   ],
   "source": [
    "lista.remove(10)\n",
    "lista"
   ]
  },
  {
   "cell_type": "code",
   "execution_count": 27,
   "id": "68073de4",
   "metadata": {
    "execution": {
     "iopub.execute_input": "2021-11-03T02:42:13.113893Z",
     "iopub.status.busy": "2021-11-03T02:42:13.113290Z",
     "iopub.status.idle": "2021-11-03T02:42:13.193259Z",
     "shell.execute_reply": "2021-11-03T02:42:13.193756Z"
    },
    "tags": [
     "raises-exception"
    ]
   },
   "outputs": [
    {
     "name": "stdout",
     "output_type": "stream",
     "text": [
      "1\n",
      "2\n",
      "2\n",
      "3\n",
      "3\n",
      "4\n"
     ]
    },
    {
     "name": "stdout",
     "output_type": "stream",
     "text": [
      "4\n",
      "5\n",
      "1\n",
      "2\n",
      "dos\n"
     ]
    },
    {
     "ename": "TypeError",
     "evalue": "can only concatenate str (not \"int\") to str",
     "output_type": "error",
     "traceback": [
      "\u001b[0;31m---------------------------------------------------------------------------\u001b[0m",
      "\u001b[0;31mTypeError\u001b[0m                                 Traceback (most recent call last)",
      "\u001b[0;32m/tmp/ipykernel_2667/1783555086.py\u001b[0m in \u001b[0;36m<module>\u001b[0;34m\u001b[0m\n\u001b[1;32m      1\u001b[0m \u001b[0;32mfor\u001b[0m \u001b[0melemento\u001b[0m \u001b[0;32min\u001b[0m \u001b[0mlista\u001b[0m\u001b[0;34m:\u001b[0m\u001b[0;34m\u001b[0m\u001b[0;34m\u001b[0m\u001b[0m\n\u001b[1;32m      2\u001b[0m     \u001b[0mprint\u001b[0m\u001b[0;34m(\u001b[0m\u001b[0melemento\u001b[0m\u001b[0;34m)\u001b[0m\u001b[0;34m\u001b[0m\u001b[0;34m\u001b[0m\u001b[0m\n\u001b[0;32m----> 3\u001b[0;31m     \u001b[0mprint\u001b[0m\u001b[0;34m(\u001b[0m\u001b[0melemento\u001b[0m \u001b[0;34m+\u001b[0m \u001b[0;36m1\u001b[0m\u001b[0;34m)\u001b[0m\u001b[0;34m\u001b[0m\u001b[0;34m\u001b[0m\u001b[0m\n\u001b[0m",
      "\u001b[0;31mTypeError\u001b[0m: can only concatenate str (not \"int\") to str"
     ]
    }
   ],
   "source": [
    "for elemento in lista:\n",
    "    print(elemento)\n",
    "    print(elemento + 1)"
   ]
  },
  {
   "cell_type": "code",
   "execution_count": 28,
   "id": "3d92a058",
   "metadata": {
    "execution": {
     "iopub.execute_input": "2021-11-03T02:42:13.200493Z",
     "iopub.status.busy": "2021-11-03T02:42:13.199449Z",
     "iopub.status.idle": "2021-11-03T02:42:13.202902Z",
     "shell.execute_reply": "2021-11-03T02:42:13.203357Z"
    }
   },
   "outputs": [
    {
     "data": {
      "text/plain": [
       "[1, 2, 3, 4, 1, 'dos']"
      ]
     },
     "execution_count": 28,
     "metadata": {},
     "output_type": "execute_result"
    }
   ],
   "source": [
    "lista"
   ]
  },
  {
   "cell_type": "code",
   "execution_count": 29,
   "id": "fa830fde",
   "metadata": {
    "execution": {
     "iopub.execute_input": "2021-11-03T02:42:13.209685Z",
     "iopub.status.busy": "2021-11-03T02:42:13.208369Z",
     "iopub.status.idle": "2021-11-03T02:42:13.211951Z",
     "shell.execute_reply": "2021-11-03T02:42:13.211453Z"
    }
   },
   "outputs": [
    {
     "name": "stdout",
     "output_type": "stream",
     "text": [
      "0-ésimo elemento: 1\n",
      "1-ésimo elemento: 2\n",
      "2-ésimo elemento: 3\n",
      "3-ésimo elemento: 4\n",
      "4-ésimo elemento: 1\n",
      "5-ésimo elemento: dos\n"
     ]
    }
   ],
   "source": [
    "for i, elemento in enumerate(lista):\n",
    "    print(f\"{i}-ésimo elemento: {elemento}\")"
   ]
  },
  {
   "cell_type": "code",
   "execution_count": 30,
   "id": "fd9bce15",
   "metadata": {
    "execution": {
     "iopub.execute_input": "2021-11-03T02:42:13.220931Z",
     "iopub.status.busy": "2021-11-03T02:42:13.219734Z",
     "iopub.status.idle": "2021-11-03T02:42:13.223329Z",
     "shell.execute_reply": "2021-11-03T02:42:13.222844Z"
    },
    "tags": [
     "raises-exception"
    ]
   },
   "outputs": [
    {
     "ename": "TypeError",
     "evalue": "'<' not supported between instances of 'str' and 'int'",
     "output_type": "error",
     "traceback": [
      "\u001b[0;31m---------------------------------------------------------------------------\u001b[0m",
      "\u001b[0;31mTypeError\u001b[0m                                 Traceback (most recent call last)",
      "\u001b[0;32m/tmp/ipykernel_2667/2266425520.py\u001b[0m in \u001b[0;36m<module>\u001b[0;34m\u001b[0m\n\u001b[0;32m----> 1\u001b[0;31m \u001b[0msorted\u001b[0m\u001b[0;34m(\u001b[0m\u001b[0mlista\u001b[0m\u001b[0;34m)\u001b[0m\u001b[0;34m\u001b[0m\u001b[0;34m\u001b[0m\u001b[0m\n\u001b[0m",
      "\u001b[0;31mTypeError\u001b[0m: '<' not supported between instances of 'str' and 'int'"
     ]
    }
   ],
   "source": [
    "sorted(lista)"
   ]
  },
  {
   "cell_type": "code",
   "execution_count": 31,
   "id": "57b350c7",
   "metadata": {
    "execution": {
     "iopub.execute_input": "2021-11-03T02:42:13.228278Z",
     "iopub.status.busy": "2021-11-03T02:42:13.227043Z",
     "iopub.status.idle": "2021-11-03T02:42:13.229071Z",
     "shell.execute_reply": "2021-11-03T02:42:13.229532Z"
    }
   },
   "outputs": [],
   "source": [
    "lista.remove(\"dos\")"
   ]
  },
  {
   "cell_type": "code",
   "execution_count": 32,
   "id": "612c71c2",
   "metadata": {
    "execution": {
     "iopub.execute_input": "2021-11-03T02:42:13.236214Z",
     "iopub.status.busy": "2021-11-03T02:42:13.234998Z",
     "iopub.status.idle": "2021-11-03T02:42:13.238959Z",
     "shell.execute_reply": "2021-11-03T02:42:13.238462Z"
    }
   },
   "outputs": [
    {
     "data": {
      "text/plain": [
       "[1, 1, 2, 3, 4]"
      ]
     },
     "execution_count": 32,
     "metadata": {},
     "output_type": "execute_result"
    }
   ],
   "source": [
    "sorted(lista)"
   ]
  },
  {
   "cell_type": "code",
   "execution_count": 33,
   "id": "e09332e2",
   "metadata": {
    "execution": {
     "iopub.execute_input": "2021-11-03T02:42:13.245080Z",
     "iopub.status.busy": "2021-11-03T02:42:13.244037Z",
     "iopub.status.idle": "2021-11-03T02:42:13.248180Z",
     "shell.execute_reply": "2021-11-03T02:42:13.247706Z"
    }
   },
   "outputs": [
    {
     "data": {
      "text/plain": [
       "[1, 1, 2, 3, 4]"
      ]
     },
     "execution_count": 33,
     "metadata": {},
     "output_type": "execute_result"
    }
   ],
   "source": [
    "lista.sort()\n",
    "lista"
   ]
  },
  {
   "cell_type": "markdown",
   "id": "4eb66f0e",
   "metadata": {
    "slideshow": {
     "slide_type": "slide"
    }
   },
   "source": [
    "#### Tuplas de Python\n",
    "\n",
    "Las tuplas son inmutables. No se pueden agregar elementos luego de creadas."
   ]
  },
  {
   "cell_type": "code",
   "execution_count": 34,
   "id": "3c25be7a",
   "metadata": {
    "execution": {
     "iopub.execute_input": "2021-11-03T02:42:13.256253Z",
     "iopub.status.busy": "2021-11-03T02:42:13.252326Z",
     "iopub.status.idle": "2021-11-03T02:42:13.259259Z",
     "shell.execute_reply": "2021-11-03T02:42:13.259737Z"
    },
    "slideshow": {
     "slide_type": "slide"
    },
    "tags": [
     "raises-exception"
    ]
   },
   "outputs": [
    {
     "name": "stdout",
     "output_type": "stream",
     "text": [
      "(1, 2)\n",
      "1\n",
      "2\n"
     ]
    },
    {
     "ename": "TypeError",
     "evalue": "'tuple' object does not support item assignment",
     "output_type": "error",
     "traceback": [
      "\u001b[0;31m---------------------------------------------------------------------------\u001b[0m",
      "\u001b[0;31mTypeError\u001b[0m                                 Traceback (most recent call last)",
      "\u001b[0;32m/tmp/ipykernel_2667/3644040918.py\u001b[0m in \u001b[0;36m<module>\u001b[0;34m\u001b[0m\n\u001b[1;32m      5\u001b[0m \u001b[0mprint\u001b[0m\u001b[0;34m(\u001b[0m\u001b[0mtupla\u001b[0m\u001b[0;34m[\u001b[0m\u001b[0;36m1\u001b[0m\u001b[0;34m]\u001b[0m\u001b[0;34m)\u001b[0m\u001b[0;34m\u001b[0m\u001b[0;34m\u001b[0m\u001b[0m\n\u001b[1;32m      6\u001b[0m \u001b[0;34m\u001b[0m\u001b[0m\n\u001b[0;32m----> 7\u001b[0;31m \u001b[0mtupla\u001b[0m\u001b[0;34m[\u001b[0m\u001b[0;36m1\u001b[0m\u001b[0;34m]\u001b[0m \u001b[0;34m=\u001b[0m \u001b[0;36m3\u001b[0m  \u001b[0;31m# Falla. No se puede mutar\u001b[0m\u001b[0;34m\u001b[0m\u001b[0;34m\u001b[0m\u001b[0m\n\u001b[0m",
      "\u001b[0;31mTypeError\u001b[0m: 'tuple' object does not support item assignment"
     ]
    }
   ],
   "source": [
    "tupla = (1, 2)\n",
    "\n",
    "print(tupla)\n",
    "print(tupla[0])\n",
    "print(tupla[1])\n",
    "\n",
    "tupla[1] = 3  # Falla. No se puede mutar"
   ]
  },
  {
   "cell_type": "code",
   "execution_count": 35,
   "id": "37c967db",
   "metadata": {
    "execution": {
     "iopub.execute_input": "2021-11-03T02:42:13.266248Z",
     "iopub.status.busy": "2021-11-03T02:42:13.265600Z",
     "iopub.status.idle": "2021-11-03T02:42:13.268981Z",
     "shell.execute_reply": "2021-11-03T02:42:13.269441Z"
    }
   },
   "outputs": [
    {
     "data": {
      "text/plain": [
       "[1, 2]"
      ]
     },
     "execution_count": 35,
     "metadata": {},
     "output_type": "execute_result"
    }
   ],
   "source": [
    "l = [1, 2]\n",
    "l"
   ]
  },
  {
   "cell_type": "code",
   "execution_count": 36,
   "id": "2655d742",
   "metadata": {
    "execution": {
     "iopub.execute_input": "2021-11-03T02:42:13.275408Z",
     "iopub.status.busy": "2021-11-03T02:42:13.274366Z",
     "iopub.status.idle": "2021-11-03T02:42:13.278214Z",
     "shell.execute_reply": "2021-11-03T02:42:13.277702Z"
    }
   },
   "outputs": [
    {
     "data": {
      "text/plain": [
       "[1, 3]"
      ]
     },
     "execution_count": 36,
     "metadata": {},
     "output_type": "execute_result"
    }
   ],
   "source": [
    "l[1] = 3\n",
    "l"
   ]
  },
  {
   "cell_type": "markdown",
   "id": "442e346c",
   "metadata": {
    "slideshow": {
     "slide_type": "slide"
    }
   },
   "source": [
    "#### Diferencia entre lista y tupla\n",
    "Las listas se caracterizan por ser mutables, es decir, se puede cambiar su contenido en tiempo de ejecución, mientras que las tuplas son inmutables ya que no es posible modificar el contenido una vez creada."
   ]
  },
  {
   "cell_type": "markdown",
   "id": "7a8889fe",
   "metadata": {},
   "source": [
    "#### Slices\n",
    "\n",
    "**Valen para listas, tuplas o strings (_segmentos_)**"
   ]
  },
  {
   "cell_type": "code",
   "execution_count": 37,
   "id": "d186be48",
   "metadata": {
    "execution": {
     "iopub.execute_input": "2021-11-03T02:42:13.282551Z",
     "iopub.status.busy": "2021-11-03T02:42:13.281982Z",
     "iopub.status.idle": "2021-11-03T02:42:13.283786Z",
     "shell.execute_reply": "2021-11-03T02:42:13.284214Z"
    }
   },
   "outputs": [],
   "source": [
    "numeros = [0, 1, 2, 3, 4, 5, 6, 7, 8, 9, 10]"
   ]
  },
  {
   "cell_type": "code",
   "execution_count": 38,
   "id": "a7964527",
   "metadata": {
    "execution": {
     "iopub.execute_input": "2021-11-03T02:42:13.290019Z",
     "iopub.status.busy": "2021-11-03T02:42:13.288690Z",
     "iopub.status.idle": "2021-11-03T02:42:13.292254Z",
     "shell.execute_reply": "2021-11-03T02:42:13.291761Z"
    }
   },
   "outputs": [
    {
     "name": "stdout",
     "output_type": "stream",
     "text": [
      "[0, 1, 2, 3, 4, 5, 6, 7, 8, 9, 10]\n"
     ]
    }
   ],
   "source": [
    "print(numeros)"
   ]
  },
  {
   "cell_type": "code",
   "execution_count": 39,
   "id": "72f65379",
   "metadata": {
    "execution": {
     "iopub.execute_input": "2021-11-03T02:42:13.298252Z",
     "iopub.status.busy": "2021-11-03T02:42:13.296910Z",
     "iopub.status.idle": "2021-11-03T02:42:13.300512Z",
     "shell.execute_reply": "2021-11-03T02:42:13.300012Z"
    }
   },
   "outputs": [
    {
     "name": "stdout",
     "output_type": "stream",
     "text": [
      "2\n"
     ]
    }
   ],
   "source": [
    "print(numeros[2])  # Imprimo elemento en la posición 2"
   ]
  },
  {
   "cell_type": "code",
   "execution_count": 40,
   "id": "239ed9f2",
   "metadata": {
    "execution": {
     "iopub.execute_input": "2021-11-03T02:42:13.305477Z",
     "iopub.status.busy": "2021-11-03T02:42:13.304916Z",
     "iopub.status.idle": "2021-11-03T02:42:13.309572Z",
     "shell.execute_reply": "2021-11-03T02:42:13.310063Z"
    }
   },
   "outputs": [
    {
     "data": {
      "text/plain": [
       "10"
      ]
     },
     "execution_count": 40,
     "metadata": {},
     "output_type": "execute_result"
    }
   ],
   "source": [
    "numeros[len(numeros) - 1]"
   ]
  },
  {
   "cell_type": "code",
   "execution_count": 41,
   "id": "198e017e",
   "metadata": {
    "execution": {
     "iopub.execute_input": "2021-11-03T02:42:13.315819Z",
     "iopub.status.busy": "2021-11-03T02:42:13.314782Z",
     "iopub.status.idle": "2021-11-03T02:42:13.318333Z",
     "shell.execute_reply": "2021-11-03T02:42:13.317831Z"
    },
    "lines_to_next_cell": 2
   },
   "outputs": [
    {
     "name": "stdout",
     "output_type": "stream",
     "text": [
      "10\n"
     ]
    }
   ],
   "source": [
    "print(numeros[-1])  # # Imprimo elemento en la última posición"
   ]
  },
  {
   "cell_type": "code",
   "execution_count": 42,
   "id": "42123899",
   "metadata": {
    "execution": {
     "iopub.execute_input": "2021-11-03T02:42:13.323197Z",
     "iopub.status.busy": "2021-11-03T02:42:13.322616Z",
     "iopub.status.idle": "2021-11-03T02:42:13.325431Z",
     "shell.execute_reply": "2021-11-03T02:42:13.325930Z"
    },
    "lines_to_next_cell": 2
   },
   "outputs": [
    {
     "data": {
      "text/plain": [
       "9"
      ]
     },
     "execution_count": 42,
     "metadata": {},
     "output_type": "execute_result"
    }
   ],
   "source": [
    "numeros[-2]"
   ]
  },
  {
   "cell_type": "code",
   "execution_count": 43,
   "id": "458d2b2d",
   "metadata": {
    "execution": {
     "iopub.execute_input": "2021-11-03T02:42:13.330554Z",
     "iopub.status.busy": "2021-11-03T02:42:13.329987Z",
     "iopub.status.idle": "2021-11-03T02:42:13.332417Z",
     "shell.execute_reply": "2021-11-03T02:42:13.332874Z"
    }
   },
   "outputs": [
    {
     "name": "stdout",
     "output_type": "stream",
     "text": [
      "[0, 1, 2]\n"
     ]
    }
   ],
   "source": [
    "print(numeros[0:3])  # Imprimo de la pos 0 a la pos 2"
   ]
  },
  {
   "cell_type": "code",
   "execution_count": 44,
   "id": "75052183",
   "metadata": {
    "execution": {
     "iopub.execute_input": "2021-11-03T02:42:13.337608Z",
     "iopub.status.busy": "2021-11-03T02:42:13.337044Z",
     "iopub.status.idle": "2021-11-03T02:42:13.339503Z",
     "shell.execute_reply": "2021-11-03T02:42:13.339961Z"
    }
   },
   "outputs": [
    {
     "name": "stdout",
     "output_type": "stream",
     "text": [
      "[7, 8]\n"
     ]
    }
   ],
   "source": [
    "print(numeros[-4:-2])"
   ]
  },
  {
   "cell_type": "code",
   "execution_count": 45,
   "id": "18545709",
   "metadata": {
    "execution": {
     "iopub.execute_input": "2021-11-03T02:42:13.344437Z",
     "iopub.status.busy": "2021-11-03T02:42:13.342443Z",
     "iopub.status.idle": "2021-11-03T02:42:13.346982Z",
     "shell.execute_reply": "2021-11-03T02:42:13.347440Z"
    }
   },
   "outputs": [
    {
     "name": "stdout",
     "output_type": "stream",
     "text": [
      "[0, 1, 2, 3, 4, 5, 6, 7, 8, 9, 10]\n"
     ]
    }
   ],
   "source": [
    "print(numeros[0:80])"
   ]
  },
  {
   "cell_type": "code",
   "execution_count": 46,
   "id": "6d043b3b",
   "metadata": {
    "execution": {
     "iopub.execute_input": "2021-11-03T02:42:13.351646Z",
     "iopub.status.busy": "2021-11-03T02:42:13.351052Z",
     "iopub.status.idle": "2021-11-03T02:42:13.353324Z",
     "shell.execute_reply": "2021-11-03T02:42:13.353808Z"
    }
   },
   "outputs": [
    {
     "name": "stdout",
     "output_type": "stream",
     "text": [
      "[0, 1, 2]\n"
     ]
    }
   ],
   "source": [
    "print(numeros[:3])"
   ]
  },
  {
   "cell_type": "code",
   "execution_count": 47,
   "id": "375f4819",
   "metadata": {
    "execution": {
     "iopub.execute_input": "2021-11-03T02:42:13.357907Z",
     "iopub.status.busy": "2021-11-03T02:42:13.357315Z",
     "iopub.status.idle": "2021-11-03T02:42:13.359875Z",
     "shell.execute_reply": "2021-11-03T02:42:13.360310Z"
    }
   },
   "outputs": [
    {
     "name": "stdout",
     "output_type": "stream",
     "text": [
      "[3, 4, 5, 6, 7, 8, 9, 10]\n"
     ]
    }
   ],
   "source": [
    "print(numeros[3:])"
   ]
  },
  {
   "cell_type": "code",
   "execution_count": 48,
   "id": "9ee4c028",
   "metadata": {
    "execution": {
     "iopub.execute_input": "2021-11-03T02:42:13.364558Z",
     "iopub.status.busy": "2021-11-03T02:42:13.363865Z",
     "iopub.status.idle": "2021-11-03T02:42:13.366431Z",
     "shell.execute_reply": "2021-11-03T02:42:13.366889Z"
    }
   },
   "outputs": [
    {
     "name": "stdout",
     "output_type": "stream",
     "text": [
      "[0, 2, 4, 6, 8]\n"
     ]
    }
   ],
   "source": [
    "print(numeros[0:10:2])"
   ]
  },
  {
   "cell_type": "markdown",
   "id": "723bab48",
   "metadata": {},
   "source": [
    "```python\n",
    "lista[<inicio>:<final>:<step>]\n",
    "```"
   ]
  },
  {
   "cell_type": "code",
   "execution_count": 49,
   "id": "9559c9c3",
   "metadata": {
    "execution": {
     "iopub.execute_input": "2021-11-03T02:42:13.372175Z",
     "iopub.status.busy": "2021-11-03T02:42:13.370435Z",
     "iopub.status.idle": "2021-11-03T02:42:13.374260Z",
     "shell.execute_reply": "2021-11-03T02:42:13.374716Z"
    },
    "lines_to_next_cell": 2
   },
   "outputs": [
    {
     "data": {
      "text/plain": [
       "[1, 2, 3, 4]"
      ]
     },
     "execution_count": 49,
     "metadata": {},
     "output_type": "execute_result"
    }
   ],
   "source": [
    "l1 = [1, 2]\n",
    "l2 = [3, 4]\n",
    "l1 + l2"
   ]
  },
  {
   "cell_type": "code",
   "execution_count": 50,
   "id": "8e7ae2a5",
   "metadata": {
    "execution": {
     "iopub.execute_input": "2021-11-03T02:42:13.379673Z",
     "iopub.status.busy": "2021-11-03T02:42:13.379086Z",
     "iopub.status.idle": "2021-11-03T02:42:13.381570Z",
     "shell.execute_reply": "2021-11-03T02:42:13.382056Z"
    }
   },
   "outputs": [
    {
     "name": "stdout",
     "output_type": "stream",
     "text": [
      "[0, 1, 2, 3, 4, 5, 6, 'siete', 8, 9, 10]\n"
     ]
    }
   ],
   "source": [
    "numeros[7] = 'siete'  # Las listas se pueden mutar\n",
    "print(numeros)"
   ]
  },
  {
   "cell_type": "code",
   "execution_count": 51,
   "id": "803b2f7c",
   "metadata": {
    "execution": {
     "iopub.execute_input": "2021-11-03T02:42:13.386521Z",
     "iopub.status.busy": "2021-11-03T02:42:13.385871Z",
     "iopub.status.idle": "2021-11-03T02:42:13.388368Z",
     "shell.execute_reply": "2021-11-03T02:42:13.388827Z"
    }
   },
   "outputs": [
    {
     "name": "stdout",
     "output_type": "stream",
     "text": [
      "[10, 9, 8, 'siete', 6, 5, 4, 3, 2, 1, 0]\n"
     ]
    }
   ],
   "source": [
    "numeros = numeros[::-1]\n",
    "print(numeros)"
   ]
  },
  {
   "cell_type": "code",
   "execution_count": 52,
   "id": "6524807d",
   "metadata": {
    "execution": {
     "iopub.execute_input": "2021-11-03T02:42:13.392660Z",
     "iopub.status.busy": "2021-11-03T02:42:13.392107Z",
     "iopub.status.idle": "2021-11-03T02:42:13.398675Z",
     "shell.execute_reply": "2021-11-03T02:42:13.398160Z"
    },
    "tags": [
     "raises-exception"
    ]
   },
   "outputs": [
    {
     "ename": "IndexError",
     "evalue": "list index out of range",
     "output_type": "error",
     "traceback": [
      "\u001b[0;31m---------------------------------------------------------------------------\u001b[0m",
      "\u001b[0;31mIndexError\u001b[0m                                Traceback (most recent call last)",
      "\u001b[0;32m/tmp/ipykernel_2667/1255736182.py\u001b[0m in \u001b[0;36m<module>\u001b[0;34m\u001b[0m\n\u001b[0;32m----> 1\u001b[0;31m \u001b[0mprint\u001b[0m\u001b[0;34m(\u001b[0m\u001b[0mnumeros\u001b[0m\u001b[0;34m[\u001b[0m\u001b[0;36m15\u001b[0m\u001b[0;34m]\u001b[0m\u001b[0;34m)\u001b[0m  \u001b[0;31m# Falla. No se puede acceder a una posición inexistente\u001b[0m\u001b[0;34m\u001b[0m\u001b[0;34m\u001b[0m\u001b[0m\n\u001b[0m",
      "\u001b[0;31mIndexError\u001b[0m: list index out of range"
     ]
    }
   ],
   "source": [
    "print(numeros[15])  # Falla. No se puede acceder a una posición inexistente"
   ]
  },
  {
   "cell_type": "code",
   "execution_count": 53,
   "id": "a067c4f2",
   "metadata": {
    "execution": {
     "iopub.execute_input": "2021-11-03T02:42:13.403449Z",
     "iopub.status.busy": "2021-11-03T02:42:13.402829Z",
     "iopub.status.idle": "2021-11-03T02:42:13.405126Z",
     "shell.execute_reply": "2021-11-03T02:42:13.405582Z"
    }
   },
   "outputs": [
    {
     "name": "stdout",
     "output_type": "stream",
     "text": [
      "palabra\n",
      "a\n",
      "pal\n",
      "abra\n"
     ]
    }
   ],
   "source": [
    "palabra = 'palabra'\n",
    "print(palabra)\n",
    "print(palabra[3])\n",
    "print(palabra[:3])\n",
    "print(palabra[3:])"
   ]
  },
  {
   "cell_type": "code",
   "execution_count": 54,
   "id": "1bd9b339",
   "metadata": {
    "execution": {
     "iopub.execute_input": "2021-11-03T02:42:13.410259Z",
     "iopub.status.busy": "2021-11-03T02:42:13.409662Z",
     "iopub.status.idle": "2021-11-03T02:42:13.411876Z",
     "shell.execute_reply": "2021-11-03T02:42:13.412421Z"
    }
   },
   "outputs": [
    {
     "name": "stdout",
     "output_type": "stream",
     "text": [
      "(0, 1, 2, 3, 4)\n",
      "(0, 1)\n",
      "(2, 3, 4)\n"
     ]
    }
   ],
   "source": [
    "tupla = (0, 1, 2, 3, 4)\n",
    "\n",
    "print(tupla)\n",
    "print(tupla[:2])\n",
    "print(tupla[2:])"
   ]
  },
  {
   "cell_type": "markdown",
   "id": "1e6c0cbb",
   "metadata": {
    "slideshow": {
     "slide_type": "slide"
    }
   },
   "source": [
    "#### Diccionarios de Python\n",
    "\n",
    "Son como hashmaps, las claves deben ser inmutables para que no pierda sentido el diccionario. Si se pudieran modificar, se podrían cambiar las claves y generaría conflictos.\n",
    "\n",
    "Tipos mutables:\n",
    "- Listas\n",
    "- Diccionarios\n",
    "- Sets\n",
    "\n",
    "Tipos inmutables:\n",
    "- Int\n",
    "- Float\n",
    "- String\n",
    "- Tuplas\n"
   ]
  },
  {
   "cell_type": "code",
   "execution_count": 55,
   "id": "f2751e3d",
   "metadata": {
    "execution": {
     "iopub.execute_input": "2021-11-03T02:42:13.416607Z",
     "iopub.status.busy": "2021-11-03T02:42:13.416051Z",
     "iopub.status.idle": "2021-11-03T02:42:13.418915Z",
     "shell.execute_reply": "2021-11-03T02:42:13.419375Z"
    },
    "slideshow": {
     "slide_type": "slide"
    }
   },
   "outputs": [
    {
     "data": {
      "text/plain": [
       "{}"
      ]
     },
     "execution_count": 55,
     "metadata": {},
     "output_type": "execute_result"
    }
   ],
   "source": [
    "diccionario = {}\n",
    "diccionario"
   ]
  },
  {
   "cell_type": "code",
   "execution_count": 56,
   "id": "3533de12",
   "metadata": {
    "execution": {
     "iopub.execute_input": "2021-11-03T02:42:13.423978Z",
     "iopub.status.busy": "2021-11-03T02:42:13.423405Z",
     "iopub.status.idle": "2021-11-03T02:42:13.426161Z",
     "shell.execute_reply": "2021-11-03T02:42:13.426626Z"
    }
   },
   "outputs": [
    {
     "data": {
      "text/plain": [
       "{}"
      ]
     },
     "execution_count": 56,
     "metadata": {},
     "output_type": "execute_result"
    }
   ],
   "source": [
    "diccionario = dict()\n",
    "diccionario"
   ]
  },
  {
   "cell_type": "code",
   "execution_count": 57,
   "id": "085a9f6a",
   "metadata": {
    "execution": {
     "iopub.execute_input": "2021-11-03T02:42:13.432275Z",
     "iopub.status.busy": "2021-11-03T02:42:13.431388Z",
     "iopub.status.idle": "2021-11-03T02:42:13.433999Z",
     "shell.execute_reply": "2021-11-03T02:42:13.434443Z"
    },
    "slideshow": {
     "slide_type": "slide"
    }
   },
   "outputs": [
    {
     "name": "stdout",
     "output_type": "stream",
     "text": [
      "{'clave1': 'valor1', 2: 'valor2', 'clave3': 3}\n"
     ]
    }
   ],
   "source": [
    "# Cómo agregar cosas al diccionario\n",
    "diccionario['clave1'] = 'valor1'\n",
    "diccionario[2] = 'valor2'\n",
    "diccionario['clave3'] = 3\n",
    "print(diccionario)"
   ]
  },
  {
   "cell_type": "markdown",
   "id": "95ab2e15",
   "metadata": {},
   "source": [
    "Hay dos formas de obtener valores de un diccionario:\n",
    "\n",
    "```python\n",
    "diccionario[clave]\n",
    "```\n",
    "\n",
    "El cual devuelve el valor si existe la clave suministrada o bien lanza `KeyError` si no existe."
   ]
  },
  {
   "cell_type": "code",
   "execution_count": 58,
   "id": "907fd977",
   "metadata": {
    "execution": {
     "iopub.execute_input": "2021-11-03T02:42:13.439160Z",
     "iopub.status.busy": "2021-11-03T02:42:13.438574Z",
     "iopub.status.idle": "2021-11-03T02:42:13.441367Z",
     "shell.execute_reply": "2021-11-03T02:42:13.441852Z"
    }
   },
   "outputs": [
    {
     "data": {
      "text/plain": [
       "'valor1'"
      ]
     },
     "execution_count": 58,
     "metadata": {},
     "output_type": "execute_result"
    }
   ],
   "source": [
    "diccionario['clave1']"
   ]
  },
  {
   "cell_type": "code",
   "execution_count": 59,
   "id": "174e7112",
   "metadata": {
    "execution": {
     "iopub.execute_input": "2021-11-03T02:42:13.449107Z",
     "iopub.status.busy": "2021-11-03T02:42:13.448548Z",
     "iopub.status.idle": "2021-11-03T02:42:13.451729Z",
     "shell.execute_reply": "2021-11-03T02:42:13.451233Z"
    },
    "tags": [
     "raises-exception"
    ]
   },
   "outputs": [
    {
     "ename": "KeyError",
     "evalue": "'clave1000'",
     "output_type": "error",
     "traceback": [
      "\u001b[0;31m---------------------------------------------------------------------------\u001b[0m",
      "\u001b[0;31mKeyError\u001b[0m                                  Traceback (most recent call last)",
      "\u001b[0;32m/tmp/ipykernel_2667/3541524662.py\u001b[0m in \u001b[0;36m<module>\u001b[0;34m\u001b[0m\n\u001b[0;32m----> 1\u001b[0;31m \u001b[0mdiccionario\u001b[0m\u001b[0;34m[\u001b[0m\u001b[0;34m'clave1000'\u001b[0m\u001b[0;34m]\u001b[0m\u001b[0;34m\u001b[0m\u001b[0;34m\u001b[0m\u001b[0m\n\u001b[0m",
      "\u001b[0;31mKeyError\u001b[0m: 'clave1000'"
     ]
    }
   ],
   "source": [
    "diccionario['clave1000']"
   ]
  },
  {
   "cell_type": "markdown",
   "id": "3171cfe0",
   "metadata": {},
   "source": [
    "La segunda forma es con `get`:"
   ]
  },
  {
   "cell_type": "code",
   "execution_count": 60,
   "id": "964a9260",
   "metadata": {
    "execution": {
     "iopub.execute_input": "2021-11-03T02:42:13.469961Z",
     "iopub.status.busy": "2021-11-03T02:42:13.459351Z",
     "iopub.status.idle": "2021-11-03T02:42:13.519133Z",
     "shell.execute_reply": "2021-11-03T02:42:13.518150Z"
    }
   },
   "outputs": [],
   "source": [
    "diccionario.get?"
   ]
  },
  {
   "cell_type": "code",
   "execution_count": 61,
   "id": "180e07e9",
   "metadata": {
    "execution": {
     "iopub.execute_input": "2021-11-03T02:42:13.524631Z",
     "iopub.status.busy": "2021-11-03T02:42:13.524064Z",
     "iopub.status.idle": "2021-11-03T02:42:13.528862Z",
     "shell.execute_reply": "2021-11-03T02:42:13.528365Z"
    }
   },
   "outputs": [
    {
     "name": "stdout",
     "output_type": "stream",
     "text": [
      "Help on built-in function get:\n",
      "\n",
      "get(key, default=None, /) method of builtins.dict instance\n",
      "    Return the value for key if key is in the dictionary, else default.\n",
      "\n"
     ]
    }
   ],
   "source": [
    "help(diccionario.get)"
   ]
  },
  {
   "cell_type": "code",
   "execution_count": 62,
   "id": "8f2ddfea",
   "metadata": {
    "execution": {
     "iopub.execute_input": "2021-11-03T02:42:13.533153Z",
     "iopub.status.busy": "2021-11-03T02:42:13.532575Z",
     "iopub.status.idle": "2021-11-03T02:42:13.535052Z",
     "shell.execute_reply": "2021-11-03T02:42:13.535520Z"
    },
    "slideshow": {
     "slide_type": "slide"
    }
   },
   "outputs": [
    {
     "name": "stdout",
     "output_type": "stream",
     "text": [
      "None\n"
     ]
    }
   ],
   "source": [
    "print(diccionario.get('clave1000'))"
   ]
  },
  {
   "cell_type": "code",
   "execution_count": 63,
   "id": "4a2707c0",
   "metadata": {
    "execution": {
     "iopub.execute_input": "2021-11-03T02:42:13.541275Z",
     "iopub.status.busy": "2021-11-03T02:42:13.540652Z",
     "iopub.status.idle": "2021-11-03T02:42:13.545313Z",
     "shell.execute_reply": "2021-11-03T02:42:13.544507Z"
    },
    "slideshow": {
     "slide_type": "slide"
    }
   },
   "outputs": [
    {
     "name": "stdout",
     "output_type": "stream",
     "text": [
      "True\n"
     ]
    }
   ],
   "source": [
    "print('clave1' in diccionario)  # Verifico si la clave está en el diccionario"
   ]
  },
  {
   "cell_type": "code",
   "execution_count": 64,
   "id": "2ace9055",
   "metadata": {
    "execution": {
     "iopub.execute_input": "2021-11-03T02:42:13.550040Z",
     "iopub.status.busy": "2021-11-03T02:42:13.549447Z",
     "iopub.status.idle": "2021-11-03T02:42:13.555441Z",
     "shell.execute_reply": "2021-11-03T02:42:13.554945Z"
    }
   },
   "outputs": [
    {
     "data": {
      "text/plain": [
       "True"
      ]
     },
     "execution_count": 64,
     "metadata": {},
     "output_type": "execute_result"
    }
   ],
   "source": [
    "l = [1, 2, 3, 4]\n",
    "2 in l"
   ]
  },
  {
   "cell_type": "code",
   "execution_count": 65,
   "id": "16df596b",
   "metadata": {
    "execution": {
     "iopub.execute_input": "2021-11-03T02:42:13.562230Z",
     "iopub.status.busy": "2021-11-03T02:42:13.560935Z",
     "iopub.status.idle": "2021-11-03T02:42:13.566103Z",
     "shell.execute_reply": "2021-11-03T02:42:13.563988Z"
    }
   },
   "outputs": [
    {
     "name": "stdout",
     "output_type": "stream",
     "text": [
      "la clave es clave1 y el valor es valor1\n",
      "la clave es 2 y el valor es valor2\n"
     ]
    },
    {
     "name": "stdout",
     "output_type": "stream",
     "text": [
      "la clave es clave3 y el valor es 3\n"
     ]
    }
   ],
   "source": [
    "for clave, valor in diccionario.items():\n",
    "    print(\"la clave es %s y el valor es %s\" % (clave, valor))"
   ]
  },
  {
   "cell_type": "code",
   "execution_count": 66,
   "id": "7cf62c86",
   "metadata": {
    "execution": {
     "iopub.execute_input": "2021-11-03T02:42:13.571073Z",
     "iopub.status.busy": "2021-11-03T02:42:13.570272Z",
     "iopub.status.idle": "2021-11-03T02:42:13.573318Z",
     "shell.execute_reply": "2021-11-03T02:42:13.572859Z"
    }
   },
   "outputs": [
    {
     "name": "stdout",
     "output_type": "stream",
     "text": [
      "la clave es clave1 y el valor es valor1\n",
      "la clave es 2 y el valor es valor2\n",
      "la clave es clave3 y el valor es 3\n"
     ]
    }
   ],
   "source": [
    "for clave, valor in diccionario.items():\n",
    "    print(\"la clave es {} y el valor es {}\".format(clave, valor))"
   ]
  },
  {
   "cell_type": "code",
   "execution_count": 67,
   "id": "8072b626",
   "metadata": {
    "execution": {
     "iopub.execute_input": "2021-11-03T02:42:13.578159Z",
     "iopub.status.busy": "2021-11-03T02:42:13.577557Z",
     "iopub.status.idle": "2021-11-03T02:42:13.579812Z",
     "shell.execute_reply": "2021-11-03T02:42:13.580266Z"
    },
    "slideshow": {
     "slide_type": "slide"
    }
   },
   "outputs": [
    {
     "name": "stdout",
     "output_type": "stream",
     "text": [
      "la clave es clave1 y el valor es valor1\n",
      "la clave es 2 y el valor es valor2\n",
      "la clave es clave3 y el valor es 3\n"
     ]
    }
   ],
   "source": [
    "# Cómo iterar un diccionario elemento por elemento\n",
    "for (\n",
    "    clave,\n",
    "    valor,\n",
    ") in (\n",
    "    diccionario.items()\n",
    "):  # diccionario.items() va devolviendo tuplas con el formato (clave,valor)\n",
    "    print(\n",
    "        f\"la clave es {clave} y el valor es {valor}\"\n",
    "    )  # con esta sintaxis se desempaquetan en clave y valor (similar a enumerate)"
   ]
  },
  {
   "cell_type": "code",
   "execution_count": 68,
   "id": "3ad4f3c6",
   "metadata": {
    "execution": {
     "iopub.execute_input": "2021-11-03T02:42:13.584297Z",
     "iopub.status.busy": "2021-11-03T02:42:13.583743Z",
     "iopub.status.idle": "2021-11-03T02:42:13.586601Z",
     "shell.execute_reply": "2021-11-03T02:42:13.586021Z"
    },
    "slideshow": {
     "slide_type": "slide"
    }
   },
   "outputs": [
    {
     "name": "stdout",
     "output_type": "stream",
     "text": [
      "clave1\n",
      "2\n",
      "clave3\n"
     ]
    }
   ],
   "source": [
    "for clave in diccionario.keys():\n",
    "    print(clave)"
   ]
  },
  {
   "cell_type": "code",
   "execution_count": 69,
   "id": "bde64226",
   "metadata": {
    "execution": {
     "iopub.execute_input": "2021-11-03T02:42:13.590341Z",
     "iopub.status.busy": "2021-11-03T02:42:13.589742Z",
     "iopub.status.idle": "2021-11-03T02:42:13.593130Z",
     "shell.execute_reply": "2021-11-03T02:42:13.592607Z"
    },
    "slideshow": {
     "slide_type": "slide"
    }
   },
   "outputs": [
    {
     "name": "stdout",
     "output_type": "stream",
     "text": [
      "valor1\n",
      "valor2\n",
      "3\n"
     ]
    }
   ],
   "source": [
    "for valor in diccionario.values():\n",
    "    print(valor)"
   ]
  },
  {
   "cell_type": "markdown",
   "id": "13d488da",
   "metadata": {},
   "source": [
    "#### Sets\n",
    "\n",
    "Son similares a los diccionarios (en eficiencia) pero se almacenan solo claves, y tienen algunas operaciones particulares.\n",
    "\n",
    "En particular, no pueden tener elementos iguales (pensar que son conjuntos)"
   ]
  },
  {
   "cell_type": "code",
   "execution_count": 70,
   "id": "fedad942",
   "metadata": {
    "execution": {
     "iopub.execute_input": "2021-11-03T02:42:13.599272Z",
     "iopub.status.busy": "2021-11-03T02:42:13.598746Z",
     "iopub.status.idle": "2021-11-03T02:42:13.602051Z",
     "shell.execute_reply": "2021-11-03T02:42:13.602521Z"
    }
   },
   "outputs": [],
   "source": [
    "set??"
   ]
  },
  {
   "cell_type": "code",
   "execution_count": 71,
   "id": "7e819dd9",
   "metadata": {
    "execution": {
     "iopub.execute_input": "2021-11-03T02:42:13.606977Z",
     "iopub.status.busy": "2021-11-03T02:42:13.606416Z",
     "iopub.status.idle": "2021-11-03T02:42:13.612635Z",
     "shell.execute_reply": "2021-11-03T02:42:13.612147Z"
    }
   },
   "outputs": [
    {
     "data": {
      "text/plain": [
       "{1, 2, 3}"
      ]
     },
     "execution_count": 71,
     "metadata": {},
     "output_type": "execute_result"
    }
   ],
   "source": [
    "# Se definen como los diccionarios pero sin hacerlos 'clave:valor', solamente una seguidilla de elementos\n",
    "{1, 2, 2, 3}"
   ]
  },
  {
   "cell_type": "code",
   "execution_count": 72,
   "id": "0cfcace1",
   "metadata": {
    "execution": {
     "iopub.execute_input": "2021-11-03T02:42:13.617236Z",
     "iopub.status.busy": "2021-11-03T02:42:13.616679Z",
     "iopub.status.idle": "2021-11-03T02:42:13.622806Z",
     "shell.execute_reply": "2021-11-03T02:42:13.622332Z"
    }
   },
   "outputs": [
    {
     "data": {
      "text/plain": [
       "{1, 2, 3}"
      ]
     },
     "execution_count": 72,
     "metadata": {},
     "output_type": "execute_result"
    }
   ],
   "source": [
    "set([1, 2, 2, 3])"
   ]
  },
  {
   "cell_type": "markdown",
   "id": "b46c9797",
   "metadata": {},
   "source": [
    "## Condicionales (if...elif...else)\n",
    "\n",
    "```python\n",
    "if <condición_1>:\n",
    "    <hacer algo_1 si se da la condición_1>\n",
    "elif <condición_2>:\n",
    "    <hacer algo_2 si se da la condición_2>\n",
    "...\n",
    "elif <condición_n>:\n",
    "    <hacer algo_n si se da la condición_n>\n",
    "else:\n",
    "    <hacer otra cosa si no dan las anteriores>\n",
    "```\n",
    "\n",
    "Algo importante para notar es que los bloques se definen por **niveles de identacion**."
   ]
  },
  {
   "cell_type": "code",
   "execution_count": 73,
   "id": "0513b044",
   "metadata": {
    "execution": {
     "iopub.execute_input": "2021-11-03T02:42:13.627770Z",
     "iopub.status.busy": "2021-11-03T02:42:13.627180Z",
     "iopub.status.idle": "2021-11-03T02:42:13.632084Z",
     "shell.execute_reply": "2021-11-03T02:42:13.631611Z"
    }
   },
   "outputs": [
    {
     "name": "stdout",
     "output_type": "stream",
     "text": [
      "uno\n"
     ]
    }
   ],
   "source": [
    "v = 1\n",
    "if v == 1:\n",
    "    print(\"uno\")\n",
    "elif v == 2:\n",
    "    print(\"dos\")\n",
    "else:\n",
    "    print(\"ni idea\")\n",
    "    print(v)"
   ]
  },
  {
   "cell_type": "markdown",
   "id": "e5c0c1aa",
   "metadata": {},
   "source": [
    "## Iteraciones\n",
    "\n",
    "```python\n",
    "while cond:\n",
    "    <codigo>\n",
    "```\n",
    "\n",
    "```python\n",
    "for elemento in iterable:\n",
    "    <codigo>\n",
    "```\n",
    "\n",
    "Para iterar sobre un rango de valores, usamos `range`"
   ]
  },
  {
   "cell_type": "code",
   "execution_count": 74,
   "id": "175da3b9",
   "metadata": {
    "execution": {
     "iopub.execute_input": "2021-11-03T02:42:13.635084Z",
     "iopub.status.busy": "2021-11-03T02:42:13.634524Z",
     "iopub.status.idle": "2021-11-03T02:42:13.640848Z",
     "shell.execute_reply": "2021-11-03T02:42:13.640043Z"
    }
   },
   "outputs": [
    {
     "name": "stdout",
     "output_type": "stream",
     "text": [
      "1\n",
      "4\n",
      "7\n",
      "10\n"
     ]
    }
   ],
   "source": [
    "for i in range(1, 11, 3):\n",
    "    print(i)"
   ]
  },
  {
   "cell_type": "markdown",
   "id": "968186e2",
   "metadata": {},
   "source": [
    "## Operadores logicos\n",
    "\n",
    "`not`, `or`, `and`"
   ]
  },
  {
   "cell_type": "code",
   "execution_count": 75,
   "id": "61265a79",
   "metadata": {
    "execution": {
     "iopub.execute_input": "2021-11-03T02:42:13.645499Z",
     "iopub.status.busy": "2021-11-03T02:42:13.644935Z",
     "iopub.status.idle": "2021-11-03T02:42:13.648894Z",
     "shell.execute_reply": "2021-11-03T02:42:13.648435Z"
    }
   },
   "outputs": [
    {
     "name": "stdout",
     "output_type": "stream",
     "text": [
      "yay\n"
     ]
    }
   ],
   "source": [
    "if True or False:\n",
    "    print(\"yay\")"
   ]
  },
  {
   "cell_type": "code",
   "execution_count": 76,
   "id": "036c3531",
   "metadata": {
    "execution": {
     "iopub.execute_input": "2021-11-03T02:42:13.653343Z",
     "iopub.status.busy": "2021-11-03T02:42:13.652782Z",
     "iopub.status.idle": "2021-11-03T02:42:13.658921Z",
     "shell.execute_reply": "2021-11-03T02:42:13.658427Z"
    }
   },
   "outputs": [
    {
     "data": {
      "text/plain": [
       "False"
      ]
     },
     "execution_count": 76,
     "metadata": {},
     "output_type": "execute_result"
    }
   ],
   "source": [
    "1 == 2"
   ]
  },
  {
   "cell_type": "code",
   "execution_count": 77,
   "id": "a7d5993e",
   "metadata": {
    "execution": {
     "iopub.execute_input": "2021-11-03T02:42:13.665016Z",
     "iopub.status.busy": "2021-11-03T02:42:13.663968Z",
     "iopub.status.idle": "2021-11-03T02:42:13.667726Z",
     "shell.execute_reply": "2021-11-03T02:42:13.667268Z"
    }
   },
   "outputs": [
    {
     "data": {
      "text/plain": [
       "True"
      ]
     },
     "execution_count": 77,
     "metadata": {},
     "output_type": "execute_result"
    }
   ],
   "source": [
    "1 != 2"
   ]
  },
  {
   "cell_type": "markdown",
   "id": "d00ba2d0",
   "metadata": {
    "slideshow": {
     "slide_type": "slide"
    }
   },
   "source": [
    "## Funciones en Python"
   ]
  },
  {
   "cell_type": "code",
   "execution_count": 78,
   "id": "930429d6",
   "metadata": {
    "execution": {
     "iopub.execute_input": "2021-11-03T02:42:13.676268Z",
     "iopub.status.busy": "2021-11-03T02:42:13.674985Z",
     "iopub.status.idle": "2021-11-03T02:42:13.678478Z",
     "shell.execute_reply": "2021-11-03T02:42:13.677981Z"
    },
    "slideshow": {
     "slide_type": "slide"
    }
   },
   "outputs": [
    {
     "name": "stdout",
     "output_type": "stream",
     "text": [
      "True\n",
      "False\n"
     ]
    }
   ],
   "source": [
    "def busqueda_binaria(lista, elemento):\n",
    "    if not lista:\n",
    "        return False\n",
    "    elif len(lista) == 1:\n",
    "        return lista[0] == elemento\n",
    "    mitad = len(lista) // 2  # // es la operación división entera\n",
    "    if lista[mitad] == elemento:\n",
    "        return True\n",
    "    if lista[mitad] > elemento:\n",
    "        return busqueda_binaria(lista[:mitad], elemento)\n",
    "    if lista[mitad] < elemento:\n",
    "        return busqueda_binaria(lista[mitad:], elemento)\n",
    "\n",
    "\n",
    "print(busqueda_binaria([1, 2, 3, 4, 5], 4))\n",
    "print(busqueda_binaria([1, 4, 6, 7, 9, 10], 2))"
   ]
  },
  {
   "cell_type": "code",
   "execution_count": 79,
   "id": "5ce52c8c",
   "metadata": {
    "execution": {
     "iopub.execute_input": "2021-11-03T02:42:13.683257Z",
     "iopub.status.busy": "2021-11-03T02:42:13.682665Z",
     "iopub.status.idle": "2021-11-03T02:42:13.687304Z",
     "shell.execute_reply": "2021-11-03T02:42:13.687738Z"
    }
   },
   "outputs": [
    {
     "name": "stdout",
     "output_type": "stream",
     "text": [
      "(3, 3, 3)\n"
     ]
    }
   ],
   "source": [
    "def a(b):\n",
    "    if a == 1:\n",
    "        print(a)\n",
    "    return (b, b, b)\n",
    "\n",
    "\n",
    "print(a(3))"
   ]
  },
  {
   "cell_type": "code",
   "execution_count": 80,
   "id": "43d99f86",
   "metadata": {
    "execution": {
     "iopub.execute_input": "2021-11-03T02:42:13.693326Z",
     "iopub.status.busy": "2021-11-03T02:42:13.692766Z",
     "iopub.status.idle": "2021-11-03T02:42:13.703392Z",
     "shell.execute_reply": "2021-11-03T02:42:13.703911Z"
    },
    "lines_to_next_cell": 2,
    "slideshow": {
     "slide_type": "slide"
    },
    "tags": [
     "raises-exception"
    ]
   },
   "outputs": [
    {
     "name": "stdout",
     "output_type": "stream",
     "text": [
      "3\n",
      "3.0\n",
      "3.0\n",
      "hola como te va\n",
      "[1, 2, 3, 4, 5]\n"
     ]
    },
    {
     "ename": "TypeError",
     "evalue": "can only concatenate str (not \"int\") to str",
     "output_type": "error",
     "traceback": [
      "\u001b[0;31m---------------------------------------------------------------------------\u001b[0m",
      "\u001b[0;31mTypeError\u001b[0m                                 Traceback (most recent call last)",
      "\u001b[0;32m/tmp/ipykernel_2667/1000948441.py\u001b[0m in \u001b[0;36m<module>\u001b[0;34m\u001b[0m\n\u001b[1;32m      8\u001b[0m \u001b[0mprint\u001b[0m\u001b[0;34m(\u001b[0m\u001b[0msuma\u001b[0m\u001b[0;34m(\u001b[0m\u001b[0;34m\"hola \"\u001b[0m\u001b[0;34m,\u001b[0m \u001b[0;34m\"como te va\"\u001b[0m\u001b[0;34m)\u001b[0m\u001b[0;34m)\u001b[0m\u001b[0;34m\u001b[0m\u001b[0;34m\u001b[0m\u001b[0m\n\u001b[1;32m      9\u001b[0m \u001b[0mprint\u001b[0m\u001b[0;34m(\u001b[0m\u001b[0msuma\u001b[0m\u001b[0;34m(\u001b[0m\u001b[0;34m[\u001b[0m\u001b[0;36m1\u001b[0m\u001b[0;34m,\u001b[0m \u001b[0;36m2\u001b[0m\u001b[0;34m,\u001b[0m \u001b[0;36m3\u001b[0m\u001b[0;34m]\u001b[0m\u001b[0;34m,\u001b[0m \u001b[0;34m[\u001b[0m\u001b[0;36m4\u001b[0m\u001b[0;34m,\u001b[0m \u001b[0;36m5\u001b[0m\u001b[0;34m]\u001b[0m\u001b[0;34m)\u001b[0m\u001b[0;34m)\u001b[0m\u001b[0;34m\u001b[0m\u001b[0;34m\u001b[0m\u001b[0m\n\u001b[0;32m---> 10\u001b[0;31m \u001b[0mprint\u001b[0m\u001b[0;34m(\u001b[0m\u001b[0msuma\u001b[0m\u001b[0;34m(\u001b[0m\u001b[0;34m\"1\"\u001b[0m\u001b[0;34m,\u001b[0m \u001b[0;36m3\u001b[0m\u001b[0;34m)\u001b[0m\u001b[0;34m)\u001b[0m  \u001b[0;31m# Falla\u001b[0m\u001b[0;34m\u001b[0m\u001b[0;34m\u001b[0m\u001b[0m\n\u001b[0m",
      "\u001b[0;32m/tmp/ipykernel_2667/1000948441.py\u001b[0m in \u001b[0;36msuma\u001b[0;34m(a, b)\u001b[0m\n\u001b[1;32m      1\u001b[0m \u001b[0;32mdef\u001b[0m \u001b[0msuma\u001b[0m\u001b[0;34m(\u001b[0m\u001b[0ma\u001b[0m\u001b[0;34m,\u001b[0m \u001b[0mb\u001b[0m\u001b[0;34m)\u001b[0m\u001b[0;34m:\u001b[0m\u001b[0;34m\u001b[0m\u001b[0;34m\u001b[0m\u001b[0m\n\u001b[0;32m----> 2\u001b[0;31m     \u001b[0;32mreturn\u001b[0m \u001b[0ma\u001b[0m \u001b[0;34m+\u001b[0m \u001b[0mb\u001b[0m\u001b[0;34m\u001b[0m\u001b[0;34m\u001b[0m\u001b[0m\n\u001b[0m\u001b[1;32m      3\u001b[0m \u001b[0;34m\u001b[0m\u001b[0m\n\u001b[1;32m      4\u001b[0m \u001b[0;34m\u001b[0m\u001b[0m\n\u001b[1;32m      5\u001b[0m \u001b[0mprint\u001b[0m\u001b[0;34m(\u001b[0m\u001b[0msuma\u001b[0m\u001b[0;34m(\u001b[0m\u001b[0;36m1\u001b[0m\u001b[0;34m,\u001b[0m \u001b[0;36m2\u001b[0m\u001b[0;34m)\u001b[0m\u001b[0;34m)\u001b[0m\u001b[0;34m\u001b[0m\u001b[0;34m\u001b[0m\u001b[0m\n",
      "\u001b[0;31mTypeError\u001b[0m: can only concatenate str (not \"int\") to str"
     ]
    }
   ],
   "source": [
    "def suma(a, b):\n",
    "    return a + b\n",
    "\n",
    "\n",
    "print(suma(1, 2))\n",
    "print(suma(1.0, 2.0))\n",
    "print(suma(1.0, 2))\n",
    "print(suma(\"hola \", \"como te va\"))\n",
    "print(suma([1, 2, 3], [4, 5]))\n",
    "print(suma(\"1\", 3))  # Falla"
   ]
  },
  {
   "cell_type": "code",
   "execution_count": 81,
   "id": "94c8e6ef",
   "metadata": {
    "execution": {
     "iopub.execute_input": "2021-11-03T02:42:13.709828Z",
     "iopub.status.busy": "2021-11-03T02:42:13.708506Z",
     "iopub.status.idle": "2021-11-03T02:42:13.712039Z",
     "shell.execute_reply": "2021-11-03T02:42:13.711553Z"
    }
   },
   "outputs": [
    {
     "name": "stdout",
     "output_type": "stream",
     "text": [
      "2.0\n"
     ]
    }
   ],
   "source": [
    "# El valor por default de divisor es 1\n",
    "\n",
    "\n",
    "def division(dividendo, divisor=2):\n",
    "    return dividendo / divisor\n",
    "\n",
    "\n",
    "print(division(4))  # Usa el valor por default"
   ]
  },
  {
   "cell_type": "code",
   "execution_count": 82,
   "id": "cb6b80aa",
   "metadata": {
    "execution": {
     "iopub.execute_input": "2021-11-03T02:42:13.721594Z",
     "iopub.status.busy": "2021-11-03T02:42:13.720568Z",
     "iopub.status.idle": "2021-11-03T02:42:13.725121Z",
     "shell.execute_reply": "2021-11-03T02:42:13.724621Z"
    },
    "tags": [
     "raises-exception"
    ]
   },
   "outputs": [
    {
     "name": "stdout",
     "output_type": "stream",
     "text": [
      "0.5\n",
      "0.5\n"
     ]
    },
    {
     "ename": "TypeError",
     "evalue": "division() missing 1 required positional argument: 'dividendo'",
     "output_type": "error",
     "traceback": [
      "\u001b[0;31m---------------------------------------------------------------------------\u001b[0m",
      "\u001b[0;31mTypeError\u001b[0m                                 Traceback (most recent call last)",
      "\u001b[0;32m/tmp/ipykernel_2667/1004518412.py\u001b[0m in \u001b[0;36m<module>\u001b[0;34m\u001b[0m\n\u001b[1;32m      1\u001b[0m \u001b[0mprint\u001b[0m\u001b[0;34m(\u001b[0m\u001b[0mdivision\u001b[0m\u001b[0;34m(\u001b[0m\u001b[0;36m1\u001b[0m\u001b[0;34m,\u001b[0m \u001b[0;36m2\u001b[0m\u001b[0;34m)\u001b[0m\u001b[0;34m)\u001b[0m  \u001b[0;31m# Parámetros por orden\u001b[0m\u001b[0;34m\u001b[0m\u001b[0;34m\u001b[0m\u001b[0m\n\u001b[1;32m      2\u001b[0m \u001b[0mprint\u001b[0m\u001b[0;34m(\u001b[0m\u001b[0mdivision\u001b[0m\u001b[0;34m(\u001b[0m\u001b[0mdividendo\u001b[0m\u001b[0;34m=\u001b[0m\u001b[0;36m1\u001b[0m\u001b[0;34m,\u001b[0m \u001b[0mdivisor\u001b[0m\u001b[0;34m=\u001b[0m\u001b[0;36m2\u001b[0m\u001b[0;34m)\u001b[0m\u001b[0;34m)\u001b[0m  \u001b[0;31m# Parámetros por nombre\u001b[0m\u001b[0;34m\u001b[0m\u001b[0;34m\u001b[0m\u001b[0m\n\u001b[0;32m----> 3\u001b[0;31m \u001b[0mprint\u001b[0m\u001b[0;34m(\u001b[0m\u001b[0mdivision\u001b[0m\u001b[0;34m(\u001b[0m\u001b[0mdivisor\u001b[0m\u001b[0;34m=\u001b[0m\u001b[0;36m2\u001b[0m\u001b[0;34m)\u001b[0m\u001b[0;34m)\u001b[0m\u001b[0;34m\u001b[0m\u001b[0;34m\u001b[0m\u001b[0m\n\u001b[0m",
      "\u001b[0;31mTypeError\u001b[0m: division() missing 1 required positional argument: 'dividendo'"
     ]
    }
   ],
   "source": [
    "print(division(1, 2))  # Parámetros por orden\n",
    "print(division(dividendo=1, divisor=2))  # Parámetros por nombre\n",
    "print(division(divisor=2))"
   ]
  },
  {
   "cell_type": "code",
   "execution_count": 83,
   "id": "74d1f1dd",
   "metadata": {
    "execution": {
     "iopub.execute_input": "2021-11-03T02:42:13.729743Z",
     "iopub.status.busy": "2021-11-03T02:42:13.729187Z",
     "iopub.status.idle": "2021-11-03T02:42:13.731797Z",
     "shell.execute_reply": "2021-11-03T02:42:13.732256Z"
    }
   },
   "outputs": [
    {
     "name": "stdout",
     "output_type": "stream",
     "text": [
      "0.5\n"
     ]
    }
   ],
   "source": [
    "print(division(divisor=2, dividendo=1))"
   ]
  },
  {
   "cell_type": "code",
   "execution_count": 84,
   "id": "ce6eb4dd",
   "metadata": {
    "execution": {
     "iopub.execute_input": "2021-11-03T02:42:13.739031Z",
     "iopub.status.busy": "2021-11-03T02:42:13.737803Z",
     "iopub.status.idle": "2021-11-03T02:42:13.741339Z",
     "shell.execute_reply": "2021-11-03T02:42:13.740850Z"
    }
   },
   "outputs": [
    {
     "name": "stdout",
     "output_type": "stream",
     "text": [
      "['a', 'b', 'c']\n",
      "[1, 2, 3]\n",
      "['hola', ' don', ' pepito']\n",
      "hola -  don -  pepito\n"
     ]
    }
   ],
   "source": [
    "# Funciones básicas ya en el lenguaje\n",
    "# Hechas para funcionar para distintos tipos\n",
    "\n",
    "string_ordenado = sorted('bca')\n",
    "print(string_ordenado)\n",
    "\n",
    "lista_ordenada = sorted([1, 3, 2])\n",
    "print(lista_ordenada)\n",
    "\n",
    "separadas = \"hola, don, pepito\".split(\",\")\n",
    "print(separadas)\n",
    "unidas = \" - \".join(separadas)\n",
    "print(unidas)"
   ]
  },
  {
   "cell_type": "markdown",
   "id": "9b0f225a",
   "metadata": {},
   "source": [
    "## Módulos\n",
    "\n",
    "Para incluir alguna biblioteca de funciones se usa `import`. Pueden ser cosas ya predefinidas en Python (`math`, `random`, etc), nombres de archivos en nuestro directorio (por ejemplo, para `mimodulo.py` ponemos `import mimodulo`) o bibliotecas instaladas por el usuario"
   ]
  },
  {
   "cell_type": "code",
   "execution_count": 85,
   "id": "0b705b94",
   "metadata": {
    "execution": {
     "iopub.execute_input": "2021-11-03T02:42:13.745191Z",
     "iopub.status.busy": "2021-11-03T02:42:13.744631Z",
     "iopub.status.idle": "2021-11-03T02:42:13.746785Z",
     "shell.execute_reply": "2021-11-03T02:42:13.747315Z"
    }
   },
   "outputs": [
    {
     "name": "stdout",
     "output_type": "stream",
     "text": [
      "3.141592653589793\n"
     ]
    }
   ],
   "source": [
    "import math\n",
    "\n",
    "print(math.pi)"
   ]
  },
  {
   "cell_type": "code",
   "execution_count": 86,
   "id": "76535885",
   "metadata": {
    "execution": {
     "iopub.execute_input": "2021-11-03T02:42:13.751950Z",
     "iopub.status.busy": "2021-11-03T02:42:13.751391Z",
     "iopub.status.idle": "2021-11-03T02:42:13.755620Z",
     "shell.execute_reply": "2021-11-03T02:42:13.756059Z"
    }
   },
   "outputs": [
    {
     "name": "stdout",
     "output_type": "stream",
     "text": [
      "3.141592653589793 2.718281828459045\n"
     ]
    }
   ],
   "source": [
    "from math import pi, e\n",
    "\n",
    "print(pi, e)"
   ]
  },
  {
   "cell_type": "code",
   "execution_count": 87,
   "id": "2df3b696",
   "metadata": {
    "execution": {
     "iopub.execute_input": "2021-11-03T02:42:13.760478Z",
     "iopub.status.busy": "2021-11-03T02:42:13.759925Z",
     "iopub.status.idle": "2021-11-03T02:42:13.764729Z",
     "shell.execute_reply": "2021-11-03T02:42:13.764236Z"
    }
   },
   "outputs": [
    {
     "data": {
      "text/plain": [
       "2"
      ]
     },
     "execution_count": 87,
     "metadata": {},
     "output_type": "execute_result"
    }
   ],
   "source": [
    "math.gcd(56, 78)"
   ]
  },
  {
   "cell_type": "markdown",
   "id": "7ddb3426",
   "metadata": {},
   "source": [
    "## Manejo de excepciones\n",
    "\n",
    "Se pueden encapsular errores esperados en un bloque 'try/except' para evitar cortar el flujo del programa"
   ]
  },
  {
   "cell_type": "code",
   "execution_count": 88,
   "id": "db745dd1",
   "metadata": {
    "execution": {
     "iopub.execute_input": "2021-11-03T02:42:13.768595Z",
     "iopub.status.busy": "2021-11-03T02:42:13.768037Z",
     "iopub.status.idle": "2021-11-03T02:42:13.777199Z",
     "shell.execute_reply": "2021-11-03T02:42:13.777678Z"
    },
    "tags": [
     "raises-exception"
    ]
   },
   "outputs": [
    {
     "ename": "ZeroDivisionError",
     "evalue": "division by zero",
     "output_type": "error",
     "traceback": [
      "\u001b[0;31m---------------------------------------------------------------------------\u001b[0m",
      "\u001b[0;31mZeroDivisionError\u001b[0m                         Traceback (most recent call last)",
      "\u001b[0;32m/tmp/ipykernel_2667/1165346582.py\u001b[0m in \u001b[0;36m<module>\u001b[0;34m\u001b[0m\n\u001b[0;32m----> 1\u001b[0;31m \u001b[0mdivision\u001b[0m\u001b[0;34m(\u001b[0m\u001b[0;36m1\u001b[0m\u001b[0;34m,\u001b[0m \u001b[0;36m0\u001b[0m\u001b[0;34m)\u001b[0m  \u001b[0;31m# No se puede dividir por cero\u001b[0m\u001b[0;34m\u001b[0m\u001b[0;34m\u001b[0m\u001b[0m\n\u001b[0m",
      "\u001b[0;32m/tmp/ipykernel_2667/2607187721.py\u001b[0m in \u001b[0;36mdivision\u001b[0;34m(dividendo, divisor)\u001b[0m\n\u001b[1;32m      3\u001b[0m \u001b[0;34m\u001b[0m\u001b[0m\n\u001b[1;32m      4\u001b[0m \u001b[0;32mdef\u001b[0m \u001b[0mdivision\u001b[0m\u001b[0;34m(\u001b[0m\u001b[0mdividendo\u001b[0m\u001b[0;34m,\u001b[0m \u001b[0mdivisor\u001b[0m\u001b[0;34m=\u001b[0m\u001b[0;36m2\u001b[0m\u001b[0;34m)\u001b[0m\u001b[0;34m:\u001b[0m\u001b[0;34m\u001b[0m\u001b[0;34m\u001b[0m\u001b[0m\n\u001b[0;32m----> 5\u001b[0;31m     \u001b[0;32mreturn\u001b[0m \u001b[0mdividendo\u001b[0m \u001b[0;34m/\u001b[0m \u001b[0mdivisor\u001b[0m\u001b[0;34m\u001b[0m\u001b[0;34m\u001b[0m\u001b[0m\n\u001b[0m\u001b[1;32m      6\u001b[0m \u001b[0;34m\u001b[0m\u001b[0m\n\u001b[1;32m      7\u001b[0m \u001b[0;34m\u001b[0m\u001b[0m\n",
      "\u001b[0;31mZeroDivisionError\u001b[0m: division by zero"
     ]
    }
   ],
   "source": [
    "division(1, 0)  # No se puede dividir por cero"
   ]
  },
  {
   "cell_type": "code",
   "execution_count": 89,
   "id": "e9bece50",
   "metadata": {
    "execution": {
     "iopub.execute_input": "2021-11-03T02:42:13.784021Z",
     "iopub.status.busy": "2021-11-03T02:42:13.782704Z",
     "iopub.status.idle": "2021-11-03T02:42:13.786263Z",
     "shell.execute_reply": "2021-11-03T02:42:13.785725Z"
    }
   },
   "outputs": [
    {
     "name": "stdout",
     "output_type": "stream",
     "text": [
      "No se puede dividir por cero, ojo! division by zero\n",
      "1\n"
     ]
    }
   ],
   "source": [
    "try:\n",
    "    division(1, 0)\n",
    "except (ZeroDivisionError, TypeError) as e:\n",
    "    print('No se puede dividir por cero, ojo!', e)\n",
    "finally:\n",
    "    print(1)"
   ]
  },
  {
   "cell_type": "markdown",
   "id": "cb559d6f",
   "metadata": {
    "slideshow": {
     "slide_type": "slide"
    }
   },
   "source": [
    "## Lectura y escritura de archivos"
   ]
  },
  {
   "cell_type": "code",
   "execution_count": 90,
   "id": "fba4793e",
   "metadata": {
    "execution": {
     "iopub.execute_input": "2021-11-03T02:42:13.793027Z",
     "iopub.status.busy": "2021-11-03T02:42:13.791980Z",
     "iopub.status.idle": "2021-11-03T02:42:13.795157Z",
     "shell.execute_reply": "2021-11-03T02:42:13.795612Z"
    },
    "slideshow": {
     "slide_type": "slide"
    }
   },
   "outputs": [
    {
     "name": "stdout",
     "output_type": "stream",
     "text": [
      "<_io.TextIOWrapper name='archivo.csv' mode='w' encoding='UTF-8'>\n"
     ]
    }
   ],
   "source": [
    "import random\n",
    "\n",
    "with open(\n",
    "    'archivo.csv', 'w'\n",
    ") as archivo:  # Al usar esta sintaxis no es necesario hacer close\n",
    "    archivo.write(\"Alumno, nota\\n\")\n",
    "    # Tambien de forma similar al fprintf se puede hacer:\n",
    "    # print(\"Alumno, nota\\n\", file=archivo)\n",
    "    for i in range(0, 10):\n",
    "        archivo.write(f\"{i},{random.randrange(0,10)}\\n\")\n",
    "\n",
    "print(archivo)  # Comentario aclaratorio:\n",
    "# Las variables definidas en un determinado scope siguen existiendo por fuera del mismo.\n",
    "# Se debe tener cuidado con esto, ya que nada garantiza que por fuera el valor sea el esperado."
   ]
  },
  {
   "cell_type": "code",
   "execution_count": 91,
   "id": "09fdc1bb",
   "metadata": {
    "execution": {
     "iopub.execute_input": "2021-11-03T02:42:13.802340Z",
     "iopub.status.busy": "2021-11-03T02:42:13.801250Z",
     "iopub.status.idle": "2021-11-03T02:42:13.804855Z",
     "shell.execute_reply": "2021-11-03T02:42:13.804355Z"
    },
    "slideshow": {
     "slide_type": "slide"
    }
   },
   "outputs": [
    {
     "name": "stdout",
     "output_type": "stream",
     "text": [
      "Alumno, nota\n",
      "0,0\n",
      "1,5\n",
      "2,0\n",
      "3,1\n",
      "4,0\n",
      "5,1\n",
      "6,9\n",
      "7,5\n",
      "8,8\n",
      "9,0\n"
     ]
    }
   ],
   "source": [
    "with open('archivo.csv', 'r') as f:\n",
    "    for linea in f:\n",
    "        print(linea.strip())"
   ]
  },
  {
   "cell_type": "code",
   "execution_count": 92,
   "id": "8e683723",
   "metadata": {
    "execution": {
     "iopub.execute_input": "2021-11-03T02:42:13.810546Z",
     "iopub.status.busy": "2021-11-03T02:42:13.809208Z",
     "iopub.status.idle": "2021-11-03T02:42:13.812837Z",
     "shell.execute_reply": "2021-11-03T02:42:13.812333Z"
    }
   },
   "outputs": [
    {
     "name": "stdout",
     "output_type": "stream",
     "text": [
      "Alumno, nota\n",
      "0,0\n",
      "1,5\n",
      "2,0\n",
      "3,1\n",
      "4,0\n",
      "5,1\n",
      "6,9\n",
      "7,5\n",
      "8,8\n",
      "9,0\n",
      "\n"
     ]
    }
   ],
   "source": [
    "with open('archivo.csv', 'r') as f:\n",
    "    print(f.read())"
   ]
  },
  {
   "cell_type": "code",
   "execution_count": 93,
   "id": "0998e0ce",
   "metadata": {
    "execution": {
     "iopub.execute_input": "2021-11-03T02:42:13.817706Z",
     "iopub.status.busy": "2021-11-03T02:42:13.816801Z",
     "iopub.status.idle": "2021-11-03T02:42:13.818907Z",
     "shell.execute_reply": "2021-11-03T02:42:13.819403Z"
    }
   },
   "outputs": [],
   "source": [
    "f = open('archivo.csv', 'w')\n",
    "f.write(\"algo, algo\")\n",
    "f.close()"
   ]
  },
  {
   "cell_type": "markdown",
   "id": "08f90534",
   "metadata": {
    "slideshow": {
     "slide_type": "slide"
    }
   },
   "source": [
    "## Objetos\n",
    "\n",
    "Los objetos tienen metodos y atributos:\n",
    "- Atributos: equivalentes a variables.\n",
    "- Métodos: equivalentes a las primitivas."
   ]
  },
  {
   "cell_type": "markdown",
   "id": "3ae23a00",
   "metadata": {
    "slideshow": {
     "slide_type": "slide"
    }
   },
   "source": [
    "### Cómo creo una clase"
   ]
  },
  {
   "cell_type": "code",
   "execution_count": 94,
   "id": "14d0d29e",
   "metadata": {
    "execution": {
     "iopub.execute_input": "2021-11-03T02:42:13.826679Z",
     "iopub.status.busy": "2021-11-03T02:42:13.825319Z",
     "iopub.status.idle": "2021-11-03T02:42:13.827332Z",
     "shell.execute_reply": "2021-11-03T02:42:13.827817Z"
    },
    "slideshow": {
     "slide_type": "slide"
    }
   },
   "outputs": [],
   "source": [
    "class Nodo(object):\n",
    "    def __init__(self, dato, siguiente=None):\n",
    "        self._dato = dato\n",
    "        self._siguiente = siguiente\n",
    "\n",
    "    @property\n",
    "    def dato(self):\n",
    "        return self._dato\n",
    "\n",
    "    @property\n",
    "    def proximo(self):\n",
    "        return self._siguiente\n",
    "\n",
    "    @proximo.setter\n",
    "    def proximo(self, siguiente):\n",
    "        self._siguiente = siguiente\n",
    "\n",
    "    def __repr__(self):\n",
    "        return str(self.dato)\n",
    "\n",
    "    def __str__(self):\n",
    "        return str(self.dato)"
   ]
  },
  {
   "cell_type": "code",
   "execution_count": 95,
   "id": "1a16bd69",
   "metadata": {
    "execution": {
     "iopub.execute_input": "2021-11-03T02:42:13.832620Z",
     "iopub.status.busy": "2021-11-03T02:42:13.832059Z",
     "iopub.status.idle": "2021-11-03T02:42:13.834372Z",
     "shell.execute_reply": "2021-11-03T02:42:13.834829Z"
    },
    "slideshow": {
     "slide_type": "slide"
    }
   },
   "outputs": [
    {
     "name": "stdout",
     "output_type": "stream",
     "text": [
      "hola\n"
     ]
    }
   ],
   "source": [
    "nodo = Nodo(\"hola\")\n",
    "print(nodo)"
   ]
  },
  {
   "cell_type": "code",
   "execution_count": 96,
   "id": "0010dd9a",
   "metadata": {
    "execution": {
     "iopub.execute_input": "2021-11-03T02:42:13.839692Z",
     "iopub.status.busy": "2021-11-03T02:42:13.839130Z",
     "iopub.status.idle": "2021-11-03T02:42:13.841397Z",
     "shell.execute_reply": "2021-11-03T02:42:13.841887Z"
    },
    "slideshow": {
     "slide_type": "slide"
    }
   },
   "outputs": [
    {
     "name": "stdout",
     "output_type": "stream",
     "text": [
      "[hola, lala]\n"
     ]
    }
   ],
   "source": [
    "nodo2 = Nodo(\"lala\")\n",
    "print([nodo, nodo2])"
   ]
  },
  {
   "cell_type": "code",
   "execution_count": 97,
   "id": "fceaf740",
   "metadata": {
    "execution": {
     "iopub.execute_input": "2021-11-03T02:42:13.846171Z",
     "iopub.status.busy": "2021-11-03T02:42:13.845573Z",
     "iopub.status.idle": "2021-11-03T02:42:13.847881Z",
     "shell.execute_reply": "2021-11-03T02:42:13.848338Z"
    },
    "slideshow": {
     "slide_type": "slide"
    }
   },
   "outputs": [
    {
     "name": "stdout",
     "output_type": "stream",
     "text": [
      "hola\n"
     ]
    }
   ],
   "source": [
    "nodo3 = nodo.dato\n",
    "print(nodo3)"
   ]
  },
  {
   "cell_type": "markdown",
   "id": "96faa287",
   "metadata": {
    "slideshow": {
     "slide_type": "slide"
    }
   },
   "source": [
    "### Ejemplo: Lista Enlazada"
   ]
  },
  {
   "cell_type": "code",
   "execution_count": 98,
   "id": "961ffee4",
   "metadata": {
    "execution": {
     "iopub.execute_input": "2021-11-03T02:42:13.856703Z",
     "iopub.status.busy": "2021-11-03T02:42:13.856111Z",
     "iopub.status.idle": "2021-11-03T02:42:13.860318Z",
     "shell.execute_reply": "2021-11-03T02:42:13.859815Z"
    },
    "slideshow": {
     "slide_type": "slide"
    }
   },
   "outputs": [],
   "source": [
    "class ListaEnlazada(object):\n",
    "    def __init__(self):\n",
    "        self._primero = None\n",
    "        self._ultimo = None\n",
    "        self._largo = 0\n",
    "\n",
    "    def __len__(self):\n",
    "        return self._largo\n",
    "\n",
    "    def insertar_al_principio(self, dato):\n",
    "        nodo = Nodo(dato, self._primero)\n",
    "        self._primero = nodo\n",
    "        self._largo += 1\n",
    "        if self._largo == 1:\n",
    "            self._ultimo = nodo\n",
    "\n",
    "    def insertar_al_final(self, dato):\n",
    "        if self._largo != 0:\n",
    "            nodo = Nodo(dato)\n",
    "            nodo_anterior = self._ultimo\n",
    "            nodo_anterior._siguiente = nodo\n",
    "            self._ultimo = nodo\n",
    "            self._largo += 1\n",
    "        else:\n",
    "            self.insertar_al_principio(dato)\n",
    "\n",
    "    @property\n",
    "    def primero(self):\n",
    "        return self._primero.dato\n",
    "\n",
    "    def borrar_primero(self):\n",
    "        dato = self.primero.dato\n",
    "        self._primero = self.primero.siguiente\n",
    "        self._largo -= 1\n",
    "        if self._largo == 0:\n",
    "            self._ultimo = None\n",
    "        return dato\n",
    "\n",
    "    def __str__(self):\n",
    "        datos = []\n",
    "        nodo_actual = self._primero\n",
    "        while nodo_actual:\n",
    "            datos.append(nodo_actual.dato)\n",
    "            nodo_actual = nodo_actual.proximo\n",
    "        return \" -> \".join(datos)\n",
    "\n",
    "    def __repr__(self):\n",
    "        return self.__str__()"
   ]
  },
  {
   "cell_type": "code",
   "execution_count": 99,
   "id": "44deb644",
   "metadata": {
    "execution": {
     "iopub.execute_input": "2021-11-03T02:42:13.866625Z",
     "iopub.status.busy": "2021-11-03T02:42:13.865529Z",
     "iopub.status.idle": "2021-11-03T02:42:13.869008Z",
     "shell.execute_reply": "2021-11-03T02:42:13.869465Z"
    },
    "slideshow": {
     "slide_type": "slide"
    }
   },
   "outputs": [
    {
     "data": {
      "text/plain": [
       "2"
      ]
     },
     "execution_count": 99,
     "metadata": {},
     "output_type": "execute_result"
    }
   ],
   "source": [
    "lista = ListaEnlazada()\n",
    "lista.insertar_al_principio(\"Primer Dato\")\n",
    "lista.insertar_al_principio(\"Primer primer Dato\")\n",
    "len(lista)"
   ]
  },
  {
   "cell_type": "code",
   "execution_count": 100,
   "id": "a116173c",
   "metadata": {
    "execution": {
     "iopub.execute_input": "2021-11-03T02:42:13.874149Z",
     "iopub.status.busy": "2021-11-03T02:42:13.873546Z",
     "iopub.status.idle": "2021-11-03T02:42:13.876405Z",
     "shell.execute_reply": "2021-11-03T02:42:13.876863Z"
    }
   },
   "outputs": [
    {
     "data": {
      "text/plain": [
       "Primer primer Dato -> Primer Dato"
      ]
     },
     "execution_count": 100,
     "metadata": {},
     "output_type": "execute_result"
    }
   ],
   "source": [
    "lista"
   ]
  },
  {
   "cell_type": "code",
   "execution_count": 101,
   "id": "afd579f4",
   "metadata": {
    "execution": {
     "iopub.execute_input": "2021-11-03T02:42:13.881376Z",
     "iopub.status.busy": "2021-11-03T02:42:13.880806Z",
     "iopub.status.idle": "2021-11-03T02:42:13.883257Z",
     "shell.execute_reply": "2021-11-03T02:42:13.883715Z"
    },
    "slideshow": {
     "slide_type": "slide"
    }
   },
   "outputs": [
    {
     "name": "stdout",
     "output_type": "stream",
     "text": [
      "Primer primer Dato\n"
     ]
    }
   ],
   "source": [
    "elemento = lista.primero\n",
    "print(elemento)"
   ]
  },
  {
   "cell_type": "markdown",
   "id": "aa1d3e76",
   "metadata": {},
   "source": [
    "## Recursos\n",
    "\n",
    "* [Taller de Python de Algoritmos II](https://github.com/algoritmos-rw/algo2_apuntes)\n",
    "\n",
    "* [Documentación de Python 3](https://docs.python.org/3/tutorial/)\n",
    "\n",
    "* [Apunte de Algoritmos y Programación I](https://algoritmos1rw.ddns.net/material)\n",
    "\n",
    "* [Automate the Boring Stuff with Python](http://automatetheboringstuff.com/)\n",
    "\n",
    "* [Curso Python](https://pythoncurso.github.io)\n",
    "\n",
    "* [Python Tutor](http://pythontutor.com/)\n",
    "\n",
    "* [Learn Python3 in Y minutes](https://learnxinyminutes.com/docs/python3/)\n",
    "\n",
    "* [Bibliografía de Algoritmos y Programación I](https://algoritmos1rw.ddns.net/bibliografia)"
   ]
  }
 ],
 "metadata": {
  "jupytext": {
   "encoding": "# -*- coding: utf-8 -*-",
   "formats": "ipynb,py:light"
  },
  "kernelspec": {
   "display_name": "Python 3 (venv)",
   "language": "python",
   "name": "python3"
  },
  "language_info": {
   "codemirror_mode": {
    "name": "ipython",
    "version": 3
   },
   "file_extension": ".py",
   "mimetype": "text/x-python",
   "name": "python",
   "nbconvert_exporter": "python",
   "pygments_lexer": "ipython3",
   "version": "3.10.11"
  }
 },
 "nbformat": 4,
 "nbformat_minor": 5
}
